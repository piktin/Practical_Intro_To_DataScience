{
 "cells": [
  {
   "cell_type": "code",
   "execution_count": 45,
   "metadata": {},
   "outputs": [],
   "source": [
    "#############################################\n",
    "### ASSIGNMENT 3 - PART 2 A     #############\n",
    "###    Exam nr: B187939            #########\n",
    "#############################################"
   ]
  },
  {
   "cell_type": "code",
   "execution_count": null,
   "metadata": {},
   "outputs": [],
   "source": [
    "###########################################\n",
    "### Explore Data               ############\n",
    "##########################################"
   ]
  },
  {
   "cell_type": "code",
   "execution_count": 164,
   "metadata": {},
   "outputs": [],
   "source": [
    "import random \n",
    "import numpy as np \n",
    "import matplotlib.pyplot as plt \n",
    "from sklearn.cluster import KMeans \n",
    "from sklearn.preprocessing import StandardScaler\n",
    "from sklearn import preprocessing\n",
    "import pandas as pd\n",
    "from sklearn.preprocessing import MinMaxScaler\n",
    "from sklearn.metrics import accuracy_score\n",
    "from sklearn import metrics"
   ]
  },
  {
   "cell_type": "code",
   "execution_count": 46,
   "metadata": {},
   "outputs": [],
   "source": [
    "final_stations = pd.read_csv('final_stations.csv')\n",
    "final_stations.drop(final_stations[['Unnamed: 0','Sun', 'Notes','Year']], axis=1, inplace= True) #removed Sun columns since it contains NAN values in some stations"
   ]
  },
  {
   "cell_type": "code",
   "execution_count": 47,
   "metadata": {},
   "outputs": [],
   "source": [
    "weather = pd.read_csv('final_weather_Stations.csv')\n",
    "weather.drop(weather[['Unnamed: 0']], axis=1, inplace= True)\n",
    "weather_ll = pd.merge(final_stations, weather,left_index=True,right_index=True, how='left')\n",
    "weather_copy = weather_ll.copy()"
   ]
  },
  {
   "cell_type": "code",
   "execution_count": 48,
   "metadata": {},
   "outputs": [],
   "source": [
    "weather_ll.drop(weather_ll[['Stations_y']], axis=1, inplace= True)"
   ]
  },
  {
   "cell_type": "code",
   "execution_count": 90,
   "metadata": {},
   "outputs": [
    {
     "data": {
      "text/html": [
       "<div>\n",
       "<style scoped>\n",
       "    .dataframe tbody tr th:only-of-type {\n",
       "        vertical-align: middle;\n",
       "    }\n",
       "\n",
       "    .dataframe tbody tr th {\n",
       "        vertical-align: top;\n",
       "    }\n",
       "\n",
       "    .dataframe thead th {\n",
       "        text-align: right;\n",
       "    }\n",
       "</style>\n",
       "<table border=\"1\" class=\"dataframe\">\n",
       "  <thead>\n",
       "    <tr style=\"text-align: right;\">\n",
       "      <th></th>\n",
       "      <th>Stations_x</th>\n",
       "      <th>Month</th>\n",
       "      <th>Tmax</th>\n",
       "      <th>Tmin</th>\n",
       "      <th>AF</th>\n",
       "      <th>Rain</th>\n",
       "      <th>Tmean</th>\n",
       "      <th>Latitude</th>\n",
       "      <th>Longtitude</th>\n",
       "      <th>Location</th>\n",
       "      <th>Location_Nr</th>\n",
       "    </tr>\n",
       "  </thead>\n",
       "  <tbody>\n",
       "    <tr>\n",
       "      <th>0</th>\n",
       "      <td>aberporth</td>\n",
       "      <td>6.500</td>\n",
       "      <td>12.888889</td>\n",
       "      <td>7.687302</td>\n",
       "      <td>1.115079</td>\n",
       "      <td>78.828175</td>\n",
       "      <td>10.288095</td>\n",
       "      <td>52.139</td>\n",
       "      <td>-4.570</td>\n",
       "      <td>South</td>\n",
       "      <td>2</td>\n",
       "    </tr>\n",
       "    <tr>\n",
       "      <th>1</th>\n",
       "      <td>armagh</td>\n",
       "      <td>6.500</td>\n",
       "      <td>13.702381</td>\n",
       "      <td>6.274603</td>\n",
       "      <td>2.992063</td>\n",
       "      <td>69.495238</td>\n",
       "      <td>9.988492</td>\n",
       "      <td>54.352</td>\n",
       "      <td>-6.649</td>\n",
       "      <td>Central</td>\n",
       "      <td>0</td>\n",
       "    </tr>\n",
       "    <tr>\n",
       "      <th>2</th>\n",
       "      <td>ballypatrick</td>\n",
       "      <td>6.500</td>\n",
       "      <td>11.864928</td>\n",
       "      <td>6.249531</td>\n",
       "      <td>1.625902</td>\n",
       "      <td>113.057143</td>\n",
       "      <td>9.057229</td>\n",
       "      <td>55.181</td>\n",
       "      <td>-6.153</td>\n",
       "      <td>Central</td>\n",
       "      <td>0</td>\n",
       "    </tr>\n",
       "    <tr>\n",
       "      <th>3</th>\n",
       "      <td>bradford</td>\n",
       "      <td>6.500</td>\n",
       "      <td>13.282143</td>\n",
       "      <td>6.448413</td>\n",
       "      <td>3.027778</td>\n",
       "      <td>74.966270</td>\n",
       "      <td>9.865278</td>\n",
       "      <td>53.813</td>\n",
       "      <td>-1.772</td>\n",
       "      <td>Central</td>\n",
       "      <td>0</td>\n",
       "    </tr>\n",
       "    <tr>\n",
       "      <th>4</th>\n",
       "      <td>braemar</td>\n",
       "      <td>6.500</td>\n",
       "      <td>10.984524</td>\n",
       "      <td>3.012169</td>\n",
       "      <td>8.515873</td>\n",
       "      <td>78.164815</td>\n",
       "      <td>6.998347</td>\n",
       "      <td>57.006</td>\n",
       "      <td>-3.396</td>\n",
       "      <td>Central</td>\n",
       "      <td>0</td>\n",
       "    </tr>\n",
       "    <tr>\n",
       "      <th>5</th>\n",
       "      <td>camborne</td>\n",
       "      <td>6.500</td>\n",
       "      <td>13.705556</td>\n",
       "      <td>8.704762</td>\n",
       "      <td>0.607143</td>\n",
       "      <td>88.967460</td>\n",
       "      <td>11.205159</td>\n",
       "      <td>50.218</td>\n",
       "      <td>-5.327</td>\n",
       "      <td>South</td>\n",
       "      <td>2</td>\n",
       "    </tr>\n",
       "    <tr>\n",
       "      <th>6</th>\n",
       "      <td>cambridge</td>\n",
       "      <td>6.500</td>\n",
       "      <td>15.036508</td>\n",
       "      <td>6.726190</td>\n",
       "      <td>3.214286</td>\n",
       "      <td>47.165476</td>\n",
       "      <td>10.881349</td>\n",
       "      <td>52.245</td>\n",
       "      <td>0.102</td>\n",
       "      <td>South</td>\n",
       "      <td>2</td>\n",
       "    </tr>\n",
       "    <tr>\n",
       "      <th>7</th>\n",
       "      <td>cardiff</td>\n",
       "      <td>6.500</td>\n",
       "      <td>15.085317</td>\n",
       "      <td>7.323413</td>\n",
       "      <td>2.769841</td>\n",
       "      <td>100.413889</td>\n",
       "      <td>11.204365</td>\n",
       "      <td>51.488</td>\n",
       "      <td>-3.187</td>\n",
       "      <td>South</td>\n",
       "      <td>2</td>\n",
       "    </tr>\n",
       "    <tr>\n",
       "      <th>8</th>\n",
       "      <td>chivenor</td>\n",
       "      <td>6.500</td>\n",
       "      <td>14.702850</td>\n",
       "      <td>8.017929</td>\n",
       "      <td>1.680014</td>\n",
       "      <td>79.007143</td>\n",
       "      <td>11.360390</td>\n",
       "      <td>51.089</td>\n",
       "      <td>-4.147</td>\n",
       "      <td>South</td>\n",
       "      <td>2</td>\n",
       "    </tr>\n",
       "    <tr>\n",
       "      <th>9</th>\n",
       "      <td>cwmystwyth</td>\n",
       "      <td>6.125</td>\n",
       "      <td>11.787090</td>\n",
       "      <td>4.873422</td>\n",
       "      <td>5.296086</td>\n",
       "      <td>154.481250</td>\n",
       "      <td>8.330256</td>\n",
       "      <td>52.358</td>\n",
       "      <td>-3.802</td>\n",
       "      <td>South</td>\n",
       "      <td>2</td>\n",
       "    </tr>\n",
       "    <tr>\n",
       "      <th>10</th>\n",
       "      <td>dunstaffnage</td>\n",
       "      <td>6.500</td>\n",
       "      <td>12.875505</td>\n",
       "      <td>6.669781</td>\n",
       "      <td>2.273713</td>\n",
       "      <td>142.266835</td>\n",
       "      <td>9.772643</td>\n",
       "      <td>56.451</td>\n",
       "      <td>-5.439</td>\n",
       "      <td>Central</td>\n",
       "      <td>0</td>\n",
       "    </tr>\n",
       "    <tr>\n",
       "      <th>11</th>\n",
       "      <td>durham</td>\n",
       "      <td>6.500</td>\n",
       "      <td>13.342063</td>\n",
       "      <td>5.894444</td>\n",
       "      <td>3.642857</td>\n",
       "      <td>58.225794</td>\n",
       "      <td>9.618254</td>\n",
       "      <td>54.768</td>\n",
       "      <td>-1.585</td>\n",
       "      <td>Central</td>\n",
       "      <td>0</td>\n",
       "    </tr>\n",
       "    <tr>\n",
       "      <th>12</th>\n",
       "      <td>eastbourne</td>\n",
       "      <td>6.500</td>\n",
       "      <td>14.797222</td>\n",
       "      <td>8.778571</td>\n",
       "      <td>1.162698</td>\n",
       "      <td>66.285714</td>\n",
       "      <td>11.787897</td>\n",
       "      <td>50.762</td>\n",
       "      <td>0.285</td>\n",
       "      <td>South</td>\n",
       "      <td>2</td>\n",
       "    </tr>\n",
       "    <tr>\n",
       "      <th>13</th>\n",
       "      <td>eskdalemuir</td>\n",
       "      <td>6.500</td>\n",
       "      <td>11.564683</td>\n",
       "      <td>4.137302</td>\n",
       "      <td>6.507937</td>\n",
       "      <td>155.123413</td>\n",
       "      <td>7.850992</td>\n",
       "      <td>55.311</td>\n",
       "      <td>-3.206</td>\n",
       "      <td>Central</td>\n",
       "      <td>0</td>\n",
       "    </tr>\n",
       "    <tr>\n",
       "      <th>14</th>\n",
       "      <td>heathrow</td>\n",
       "      <td>6.500</td>\n",
       "      <td>15.788889</td>\n",
       "      <td>7.955556</td>\n",
       "      <td>2.107143</td>\n",
       "      <td>52.755952</td>\n",
       "      <td>11.872222</td>\n",
       "      <td>51.479</td>\n",
       "      <td>-0.449</td>\n",
       "      <td>South</td>\n",
       "      <td>2</td>\n",
       "    </tr>\n",
       "    <tr>\n",
       "      <th>15</th>\n",
       "      <td>hurn</td>\n",
       "      <td>6.500</td>\n",
       "      <td>15.248413</td>\n",
       "      <td>6.383730</td>\n",
       "      <td>4.615079</td>\n",
       "      <td>73.825000</td>\n",
       "      <td>10.816071</td>\n",
       "      <td>50.779</td>\n",
       "      <td>-1.835</td>\n",
       "      <td>South</td>\n",
       "      <td>2</td>\n",
       "    </tr>\n",
       "    <tr>\n",
       "      <th>16</th>\n",
       "      <td>lerwick</td>\n",
       "      <td>6.500</td>\n",
       "      <td>9.943254</td>\n",
       "      <td>5.781349</td>\n",
       "      <td>2.210317</td>\n",
       "      <td>105.632857</td>\n",
       "      <td>7.862302</td>\n",
       "      <td>60.139</td>\n",
       "      <td>-1.183</td>\n",
       "      <td>North</td>\n",
       "      <td>1</td>\n",
       "    </tr>\n",
       "    <tr>\n",
       "      <th>17</th>\n",
       "      <td>leuchars</td>\n",
       "      <td>6.500</td>\n",
       "      <td>12.811905</td>\n",
       "      <td>5.416270</td>\n",
       "      <td>4.400794</td>\n",
       "      <td>61.498413</td>\n",
       "      <td>9.114087</td>\n",
       "      <td>56.377</td>\n",
       "      <td>-2.861</td>\n",
       "      <td>Central</td>\n",
       "      <td>0</td>\n",
       "    </tr>\n",
       "    <tr>\n",
       "      <th>18</th>\n",
       "      <td>lowestoft</td>\n",
       "      <td>6.500</td>\n",
       "      <td>14.035709</td>\n",
       "      <td>7.550849</td>\n",
       "      <td>2.019384</td>\n",
       "      <td>53.850397</td>\n",
       "      <td>10.793279</td>\n",
       "      <td>52.483</td>\n",
       "      <td>1.727</td>\n",
       "      <td>South</td>\n",
       "      <td>2</td>\n",
       "    </tr>\n",
       "    <tr>\n",
       "      <th>19</th>\n",
       "      <td>manston</td>\n",
       "      <td>6.500</td>\n",
       "      <td>12.857576</td>\n",
       "      <td>6.794877</td>\n",
       "      <td>2.452381</td>\n",
       "      <td>48.331133</td>\n",
       "      <td>9.826227</td>\n",
       "      <td>51.346</td>\n",
       "      <td>1.337</td>\n",
       "      <td>South</td>\n",
       "      <td>2</td>\n",
       "    </tr>\n",
       "    <tr>\n",
       "      <th>20</th>\n",
       "      <td>nairn</td>\n",
       "      <td>6.500</td>\n",
       "      <td>12.735830</td>\n",
       "      <td>5.231291</td>\n",
       "      <td>4.246465</td>\n",
       "      <td>56.581898</td>\n",
       "      <td>8.983561</td>\n",
       "      <td>57.593</td>\n",
       "      <td>-3.821</td>\n",
       "      <td>North</td>\n",
       "      <td>1</td>\n",
       "    </tr>\n",
       "    <tr>\n",
       "      <th>21</th>\n",
       "      <td>newtonrigg</td>\n",
       "      <td>6.500</td>\n",
       "      <td>12.699603</td>\n",
       "      <td>4.989683</td>\n",
       "      <td>5.035714</td>\n",
       "      <td>83.561905</td>\n",
       "      <td>8.844643</td>\n",
       "      <td>54.670</td>\n",
       "      <td>-2.786</td>\n",
       "      <td>Central</td>\n",
       "      <td>0</td>\n",
       "    </tr>\n",
       "    <tr>\n",
       "      <th>22</th>\n",
       "      <td>oxford</td>\n",
       "      <td>6.500</td>\n",
       "      <td>15.216270</td>\n",
       "      <td>7.157540</td>\n",
       "      <td>2.821429</td>\n",
       "      <td>57.173016</td>\n",
       "      <td>11.186905</td>\n",
       "      <td>51.761</td>\n",
       "      <td>-1.262</td>\n",
       "      <td>South</td>\n",
       "      <td>2</td>\n",
       "    </tr>\n",
       "    <tr>\n",
       "      <th>23</th>\n",
       "      <td>paisley</td>\n",
       "      <td>6.500</td>\n",
       "      <td>13.257937</td>\n",
       "      <td>6.438095</td>\n",
       "      <td>3.023810</td>\n",
       "      <td>103.805952</td>\n",
       "      <td>9.848016</td>\n",
       "      <td>55.846</td>\n",
       "      <td>-4.430</td>\n",
       "      <td>Central</td>\n",
       "      <td>0</td>\n",
       "    </tr>\n",
       "    <tr>\n",
       "      <th>24</th>\n",
       "      <td>ringway</td>\n",
       "      <td>6.300</td>\n",
       "      <td>14.089667</td>\n",
       "      <td>7.026000</td>\n",
       "      <td>2.640000</td>\n",
       "      <td>77.169333</td>\n",
       "      <td>10.557833</td>\n",
       "      <td>53.356</td>\n",
       "      <td>-2.279</td>\n",
       "      <td>South</td>\n",
       "      <td>2</td>\n",
       "    </tr>\n",
       "    <tr>\n",
       "      <th>25</th>\n",
       "      <td>rossonwye</td>\n",
       "      <td>6.500</td>\n",
       "      <td>14.884127</td>\n",
       "      <td>6.883333</td>\n",
       "      <td>3.218254</td>\n",
       "      <td>65.534524</td>\n",
       "      <td>10.883730</td>\n",
       "      <td>51.911</td>\n",
       "      <td>-2.584</td>\n",
       "      <td>South</td>\n",
       "      <td>2</td>\n",
       "    </tr>\n",
       "    <tr>\n",
       "      <th>26</th>\n",
       "      <td>shawbury</td>\n",
       "      <td>6.500</td>\n",
       "      <td>14.025397</td>\n",
       "      <td>5.821032</td>\n",
       "      <td>4.488095</td>\n",
       "      <td>57.705556</td>\n",
       "      <td>9.923214</td>\n",
       "      <td>52.794</td>\n",
       "      <td>-2.663</td>\n",
       "      <td>South</td>\n",
       "      <td>2</td>\n",
       "    </tr>\n",
       "    <tr>\n",
       "      <th>27</th>\n",
       "      <td>sheffield</td>\n",
       "      <td>6.500</td>\n",
       "      <td>13.827381</td>\n",
       "      <td>7.044444</td>\n",
       "      <td>2.162698</td>\n",
       "      <td>70.252778</td>\n",
       "      <td>10.435913</td>\n",
       "      <td>53.381</td>\n",
       "      <td>-1.490</td>\n",
       "      <td>South</td>\n",
       "      <td>2</td>\n",
       "    </tr>\n",
       "    <tr>\n",
       "      <th>28</th>\n",
       "      <td>southampton</td>\n",
       "      <td>2.000</td>\n",
       "      <td>10.833333</td>\n",
       "      <td>3.700000</td>\n",
       "      <td>5.000000</td>\n",
       "      <td>43.166667</td>\n",
       "      <td>7.266667</td>\n",
       "      <td>50.898</td>\n",
       "      <td>-1.408</td>\n",
       "      <td>South</td>\n",
       "      <td>2</td>\n",
       "    </tr>\n",
       "    <tr>\n",
       "      <th>29</th>\n",
       "      <td>stornoway</td>\n",
       "      <td>6.500</td>\n",
       "      <td>11.647475</td>\n",
       "      <td>6.279545</td>\n",
       "      <td>1.772727</td>\n",
       "      <td>101.993975</td>\n",
       "      <td>8.963510</td>\n",
       "      <td>58.214</td>\n",
       "      <td>-6.318</td>\n",
       "      <td>North</td>\n",
       "      <td>1</td>\n",
       "    </tr>\n",
       "    <tr>\n",
       "      <th>30</th>\n",
       "      <td>suttonbonington</td>\n",
       "      <td>6.500</td>\n",
       "      <td>14.430952</td>\n",
       "      <td>6.555159</td>\n",
       "      <td>3.396825</td>\n",
       "      <td>53.555159</td>\n",
       "      <td>10.493056</td>\n",
       "      <td>52.833</td>\n",
       "      <td>-1.250</td>\n",
       "      <td>South</td>\n",
       "      <td>2</td>\n",
       "    </tr>\n",
       "    <tr>\n",
       "      <th>31</th>\n",
       "      <td>tiree</td>\n",
       "      <td>6.500</td>\n",
       "      <td>12.022222</td>\n",
       "      <td>7.190476</td>\n",
       "      <td>0.781746</td>\n",
       "      <td>105.744444</td>\n",
       "      <td>9.606349</td>\n",
       "      <td>56.500</td>\n",
       "      <td>-6.880</td>\n",
       "      <td>Central</td>\n",
       "      <td>0</td>\n",
       "    </tr>\n",
       "  </tbody>\n",
       "</table>\n",
       "</div>"
      ],
      "text/plain": [
       "         Stations_x  Month       Tmax      Tmin        AF        Rain  \\\n",
       "0         aberporth  6.500  12.888889  7.687302  1.115079   78.828175   \n",
       "1            armagh  6.500  13.702381  6.274603  2.992063   69.495238   \n",
       "2      ballypatrick  6.500  11.864928  6.249531  1.625902  113.057143   \n",
       "3          bradford  6.500  13.282143  6.448413  3.027778   74.966270   \n",
       "4           braemar  6.500  10.984524  3.012169  8.515873   78.164815   \n",
       "5          camborne  6.500  13.705556  8.704762  0.607143   88.967460   \n",
       "6         cambridge  6.500  15.036508  6.726190  3.214286   47.165476   \n",
       "7           cardiff  6.500  15.085317  7.323413  2.769841  100.413889   \n",
       "8          chivenor  6.500  14.702850  8.017929  1.680014   79.007143   \n",
       "9        cwmystwyth  6.125  11.787090  4.873422  5.296086  154.481250   \n",
       "10     dunstaffnage  6.500  12.875505  6.669781  2.273713  142.266835   \n",
       "11           durham  6.500  13.342063  5.894444  3.642857   58.225794   \n",
       "12       eastbourne  6.500  14.797222  8.778571  1.162698   66.285714   \n",
       "13      eskdalemuir  6.500  11.564683  4.137302  6.507937  155.123413   \n",
       "14         heathrow  6.500  15.788889  7.955556  2.107143   52.755952   \n",
       "15             hurn  6.500  15.248413  6.383730  4.615079   73.825000   \n",
       "16          lerwick  6.500   9.943254  5.781349  2.210317  105.632857   \n",
       "17         leuchars  6.500  12.811905  5.416270  4.400794   61.498413   \n",
       "18        lowestoft  6.500  14.035709  7.550849  2.019384   53.850397   \n",
       "19          manston  6.500  12.857576  6.794877  2.452381   48.331133   \n",
       "20            nairn  6.500  12.735830  5.231291  4.246465   56.581898   \n",
       "21       newtonrigg  6.500  12.699603  4.989683  5.035714   83.561905   \n",
       "22           oxford  6.500  15.216270  7.157540  2.821429   57.173016   \n",
       "23          paisley  6.500  13.257937  6.438095  3.023810  103.805952   \n",
       "24          ringway  6.300  14.089667  7.026000  2.640000   77.169333   \n",
       "25        rossonwye  6.500  14.884127  6.883333  3.218254   65.534524   \n",
       "26         shawbury  6.500  14.025397  5.821032  4.488095   57.705556   \n",
       "27        sheffield  6.500  13.827381  7.044444  2.162698   70.252778   \n",
       "28      southampton  2.000  10.833333  3.700000  5.000000   43.166667   \n",
       "29        stornoway  6.500  11.647475  6.279545  1.772727  101.993975   \n",
       "30  suttonbonington  6.500  14.430952  6.555159  3.396825   53.555159   \n",
       "31            tiree  6.500  12.022222  7.190476  0.781746  105.744444   \n",
       "\n",
       "        Tmean  Latitude  Longtitude Location  Location_Nr  \n",
       "0   10.288095    52.139      -4.570    South            2  \n",
       "1    9.988492    54.352      -6.649  Central            0  \n",
       "2    9.057229    55.181      -6.153  Central            0  \n",
       "3    9.865278    53.813      -1.772  Central            0  \n",
       "4    6.998347    57.006      -3.396  Central            0  \n",
       "5   11.205159    50.218      -5.327    South            2  \n",
       "6   10.881349    52.245       0.102    South            2  \n",
       "7   11.204365    51.488      -3.187    South            2  \n",
       "8   11.360390    51.089      -4.147    South            2  \n",
       "9    8.330256    52.358      -3.802    South            2  \n",
       "10   9.772643    56.451      -5.439  Central            0  \n",
       "11   9.618254    54.768      -1.585  Central            0  \n",
       "12  11.787897    50.762       0.285    South            2  \n",
       "13   7.850992    55.311      -3.206  Central            0  \n",
       "14  11.872222    51.479      -0.449    South            2  \n",
       "15  10.816071    50.779      -1.835    South            2  \n",
       "16   7.862302    60.139      -1.183    North            1  \n",
       "17   9.114087    56.377      -2.861  Central            0  \n",
       "18  10.793279    52.483       1.727    South            2  \n",
       "19   9.826227    51.346       1.337    South            2  \n",
       "20   8.983561    57.593      -3.821    North            1  \n",
       "21   8.844643    54.670      -2.786  Central            0  \n",
       "22  11.186905    51.761      -1.262    South            2  \n",
       "23   9.848016    55.846      -4.430  Central            0  \n",
       "24  10.557833    53.356      -2.279    South            2  \n",
       "25  10.883730    51.911      -2.584    South            2  \n",
       "26   9.923214    52.794      -2.663    South            2  \n",
       "27  10.435913    53.381      -1.490    South            2  \n",
       "28   7.266667    50.898      -1.408    South            2  \n",
       "29   8.963510    58.214      -6.318    North            1  \n",
       "30  10.493056    52.833      -1.250    South            2  \n",
       "31   9.606349    56.500      -6.880  Central            0  "
      ]
     },
     "execution_count": 90,
     "metadata": {},
     "output_type": "execute_result"
    }
   ],
   "source": [
    "le = preprocessing.LabelEncoder()\n",
    "weather_ll['Location_Nr'] =le.fit_transform(weather_ll['Location'])\n",
    "weather_ll"
   ]
  },
  {
   "cell_type": "code",
   "execution_count": 91,
   "metadata": {},
   "outputs": [
    {
     "data": {
      "text/html": [
       "<div>\n",
       "<style scoped>\n",
       "    .dataframe tbody tr th:only-of-type {\n",
       "        vertical-align: middle;\n",
       "    }\n",
       "\n",
       "    .dataframe tbody tr th {\n",
       "        vertical-align: top;\n",
       "    }\n",
       "\n",
       "    .dataframe thead th {\n",
       "        text-align: right;\n",
       "    }\n",
       "</style>\n",
       "<table border=\"1\" class=\"dataframe\">\n",
       "  <thead>\n",
       "    <tr style=\"text-align: right;\">\n",
       "      <th></th>\n",
       "      <th>Stations_x</th>\n",
       "      <th>Month</th>\n",
       "      <th>Tmax</th>\n",
       "      <th>Tmin</th>\n",
       "      <th>AF</th>\n",
       "      <th>Rain</th>\n",
       "      <th>Tmean</th>\n",
       "      <th>Latitude</th>\n",
       "      <th>Longtitude</th>\n",
       "      <th>Location</th>\n",
       "      <th>Location_Nr</th>\n",
       "    </tr>\n",
       "  </thead>\n",
       "  <tbody>\n",
       "    <tr>\n",
       "      <th>27</th>\n",
       "      <td>sheffield</td>\n",
       "      <td>6.5</td>\n",
       "      <td>13.827381</td>\n",
       "      <td>7.044444</td>\n",
       "      <td>2.162698</td>\n",
       "      <td>70.252778</td>\n",
       "      <td>10.435913</td>\n",
       "      <td>53.381</td>\n",
       "      <td>-1.490</td>\n",
       "      <td>South</td>\n",
       "      <td>2</td>\n",
       "    </tr>\n",
       "    <tr>\n",
       "      <th>28</th>\n",
       "      <td>southampton</td>\n",
       "      <td>2.0</td>\n",
       "      <td>10.833333</td>\n",
       "      <td>3.700000</td>\n",
       "      <td>5.000000</td>\n",
       "      <td>43.166667</td>\n",
       "      <td>7.266667</td>\n",
       "      <td>50.898</td>\n",
       "      <td>-1.408</td>\n",
       "      <td>South</td>\n",
       "      <td>2</td>\n",
       "    </tr>\n",
       "    <tr>\n",
       "      <th>29</th>\n",
       "      <td>stornoway</td>\n",
       "      <td>6.5</td>\n",
       "      <td>11.647475</td>\n",
       "      <td>6.279545</td>\n",
       "      <td>1.772727</td>\n",
       "      <td>101.993975</td>\n",
       "      <td>8.963510</td>\n",
       "      <td>58.214</td>\n",
       "      <td>-6.318</td>\n",
       "      <td>North</td>\n",
       "      <td>1</td>\n",
       "    </tr>\n",
       "    <tr>\n",
       "      <th>30</th>\n",
       "      <td>suttonbonington</td>\n",
       "      <td>6.5</td>\n",
       "      <td>14.430952</td>\n",
       "      <td>6.555159</td>\n",
       "      <td>3.396825</td>\n",
       "      <td>53.555159</td>\n",
       "      <td>10.493056</td>\n",
       "      <td>52.833</td>\n",
       "      <td>-1.250</td>\n",
       "      <td>South</td>\n",
       "      <td>2</td>\n",
       "    </tr>\n",
       "    <tr>\n",
       "      <th>31</th>\n",
       "      <td>tiree</td>\n",
       "      <td>6.5</td>\n",
       "      <td>12.022222</td>\n",
       "      <td>7.190476</td>\n",
       "      <td>0.781746</td>\n",
       "      <td>105.744444</td>\n",
       "      <td>9.606349</td>\n",
       "      <td>56.500</td>\n",
       "      <td>-6.880</td>\n",
       "      <td>Central</td>\n",
       "      <td>0</td>\n",
       "    </tr>\n",
       "  </tbody>\n",
       "</table>\n",
       "</div>"
      ],
      "text/plain": [
       "         Stations_x  Month       Tmax      Tmin        AF        Rain  \\\n",
       "27        sheffield    6.5  13.827381  7.044444  2.162698   70.252778   \n",
       "28      southampton    2.0  10.833333  3.700000  5.000000   43.166667   \n",
       "29        stornoway    6.5  11.647475  6.279545  1.772727  101.993975   \n",
       "30  suttonbonington    6.5  14.430952  6.555159  3.396825   53.555159   \n",
       "31            tiree    6.5  12.022222  7.190476  0.781746  105.744444   \n",
       "\n",
       "        Tmean  Latitude  Longtitude Location  Location_Nr  \n",
       "27  10.435913    53.381      -1.490    South            2  \n",
       "28   7.266667    50.898      -1.408    South            2  \n",
       "29   8.963510    58.214      -6.318    North            1  \n",
       "30  10.493056    52.833      -1.250    South            2  \n",
       "31   9.606349    56.500      -6.880  Central            0  "
      ]
     },
     "execution_count": 91,
     "metadata": {},
     "output_type": "execute_result"
    }
   ],
   "source": [
    "# Create df of last 5 stations as the test set\n",
    "weather_test = weather_ll.tail(5)\n",
    "weather_test\n"
   ]
  },
  {
   "cell_type": "code",
   "execution_count": 92,
   "metadata": {},
   "outputs": [],
   "source": [
    "#training set is the rest of the stations after removed the last 5 stations\n",
    "weather_ll.drop(weather_ll.tail(5).index,inplace=True) # drop last 5 rows\n"
   ]
  },
  {
   "cell_type": "code",
   "execution_count": 93,
   "metadata": {},
   "outputs": [
    {
     "data": {
      "text/plain": [
       "2    15\n",
       "0    10\n",
       "1     2\n",
       "Name: Location_Nr, dtype: int64"
      ]
     },
     "execution_count": 93,
     "metadata": {},
     "output_type": "execute_result"
    }
   ],
   "source": [
    "#Check how many stations in each class from training set\n",
    "weather_ll['Location_Nr'].value_counts()"
   ]
  },
  {
   "cell_type": "code",
   "execution_count": 94,
   "metadata": {},
   "outputs": [
    {
     "data": {
      "text/plain": [
       "array([[<AxesSubplot:title={'center':'Latitude'}>]], dtype=object)"
      ]
     },
     "execution_count": 94,
     "metadata": {},
     "output_type": "execute_result"
    },
    {
     "data": {
      "image/png": "[encoded data removed]",
      "text/plain": [
       "<Figure size 432x288 with 1 Axes>"
      ]
     },
     "metadata": {
      "needs_background": "light"
     },
     "output_type": "display_data"
    }
   ],
   "source": [
    "#Explore data a bit\n",
    "weather_ll.hist(column='Latitude', bins=50)"
   ]
  },
  {
   "cell_type": "code",
   "execution_count": 53,
   "metadata": {},
   "outputs": [],
   "source": [
    "###################################################\n",
    "#######Part 2 A : Use K-NN (nearest neighbours)\n",
    "######### Using last 5 stations as test group#####\n",
    "################################################"
   ]
  },
  {
   "cell_type": "code",
   "execution_count": 96,
   "metadata": {},
   "outputs": [],
   "source": [
    "# Determine features we are going to use to classification.\n",
    "X_train = weather_ll[['AF','Rain','Tmin','Tmax','Tmean']].values #make sure that values are in float\n"
   ]
  },
  {
   "cell_type": "code",
   "execution_count": 97,
   "metadata": {},
   "outputs": [
    {
     "data": {
      "text/plain": [
       "array([2, 0, 0, 0, 0, 2, 2, 2, 2, 2])"
      ]
     },
     "execution_count": 97,
     "metadata": {},
     "output_type": "execute_result"
    }
   ],
   "source": [
    "Y_train = weather_ll['Location_Nr'].values\n",
    "Y_train[0:10]"
   ]
  },
  {
   "cell_type": "code",
   "execution_count": 98,
   "metadata": {},
   "outputs": [
    {
     "name": "stderr",
     "output_type": "stream",
     "text": [
      "C:\\Users\\Wind\\anaconda3\\lib\\site-packages\\sklearn\\utils\\validation.py:67: FutureWarning: Pass copy=[[  1.11507937  78.8281746    7.68730159  12.88888889  10.28809524]\n",
      " [  2.99206349  69.4952381    6.27460317  13.70238095   9.98849206]\n",
      " [  1.62590188 113.05714286   6.24953102  11.86492785   9.05722944]\n",
      " [  3.02777778  74.96626984   6.4484127   13.28214286   9.86527778]\n",
      " [  8.51587302  78.16481481   3.01216931  10.98452381   6.99834656]\n",
      " [  0.60714286  88.96746032   8.7047619   13.70555556  11.20515873]\n",
      " [  3.21428571  47.16547619   6.72619048  15.03650794  10.88134921]\n",
      " [  2.76984127 100.41388889   7.3234127   15.08531746  11.20436508]\n",
      " [  1.68001443  79.00714286   8.01792929  14.70284993  11.36038961]\n",
      " [  5.29608586 154.48125      4.87342172  11.78708965   8.33025568]\n",
      " [  2.27371332 142.26683502   6.66978114  12.87550505   9.7726431 ]\n",
      " [  3.64285714  58.22579365   5.89444444  13.34206349   9.61825397]\n",
      " [  1.16269841  66.28571429   8.77857143  14.79722222  11.78789683]\n",
      " [  6.50793651 155.1234127    4.13730159  11.56468254   7.85099206]\n",
      " [  2.10714286  52.75595238   7.95555556  15.78888889  11.87222222]\n",
      " [  4.61507937  73.825        6.38373016  15.2484127   10.81607143]\n",
      " [  2.21031746 105.63285714   5.78134921   9.94325397   7.86230159]\n",
      " [  4.40079365  61.4984127    5.41626984  12.81190476   9.1140873 ]\n",
      " [  2.01938432  53.85039683   7.55084897  14.03570948  10.79327922]\n",
      " [  2.45238095  48.33113276   6.79487734  12.85757576   9.82622655]\n",
      " [  4.24646465  56.58189755   5.23129149  12.73582973   8.98356061]\n",
      " [  5.03571429  83.56190476   4.98968254  12.69960317   8.84464286]\n",
      " [  2.82142857  57.17301587   7.15753968  15.21626984  11.18690476]\n",
      " [  3.02380952 103.80595238   6.43809524  13.25793651   9.84801587]\n",
      " [  2.64        77.16933333   7.026       14.08966667  10.55783333]\n",
      " [  3.21825397  65.53452381   6.88333333  14.88412698  10.88373016]\n",
      " [  4.48809524  57.70555556   5.82103175  14.02539683   9.92321429]], with_mean=[2 0 0 0 0 2 2 2 2 2 0 0 2 0 2 2 1 0 2 2 1 0 2 0 2 2 2] as keyword args. From version 0.25 passing these as positional arguments will result in an error\n",
      "  warnings.warn(\"Pass {} as keyword args. From version 0.25 \"\n"
     ]
    },
    {
     "data": {
      "text/plain": [
       "StandardScaler(copy=array([[  1.11507937,  78.8281746 ,   7.68730159,  12.88888889,\n",
       "         10.28809524],\n",
       "       [  2.99206349,  69.4952381 ,   6.27460317,  13.70238095,\n",
       "          9.98849206],\n",
       "       [  1.62590188, 113.05714286,   6.24953102,  11.86492785,\n",
       "          9.05722944],\n",
       "       [  3.02777778,  74.96626984,   6.4484127 ,  13.28214286,\n",
       "          9.86527778],\n",
       "       [  8.51587302,  78.16481481,   3.01216931,  10.98452381,\n",
       "          6.99834656],\n",
       "       [  0.60714286,  88.96746032,   8.704...\n",
       "       [  2.82142857,  57.17301587,   7.15753968,  15.21626984,\n",
       "         11.18690476],\n",
       "       [  3.02380952, 103.80595238,   6.43809524,  13.25793651,\n",
       "          9.84801587],\n",
       "       [  2.64      ,  77.16933333,   7.026     ,  14.08966667,\n",
       "         10.55783333],\n",
       "       [  3.21825397,  65.53452381,   6.88333333,  14.88412698,\n",
       "         10.88373016],\n",
       "       [  4.48809524,  57.70555556,   5.82103175,  14.02539683,\n",
       "          9.92321429]]),\n",
       "               with_mean=array([2, 0, 0, 0, 0, 2, 2, 2, 2, 2, 0, 0, 2, 0, 2, 2, 1, 0, 2, 2, 1, 0,\n",
       "       2, 0, 2, 2, 2]))"
      ]
     },
     "execution_count": 98,
     "metadata": {},
     "output_type": "execute_result"
    }
   ],
   "source": [
    "#X_train = preprocessing.MinMaxScaler().fit(X_train).transform(X_train.astype(float)) #normalise the data\n",
    "# normalising using MinMaxScaler\n",
    "preprocessing.StandardScaler(X_train, Y_train)"
   ]
  },
  {
   "cell_type": "code",
   "execution_count": 117,
   "metadata": {},
   "outputs": [
    {
     "name": "stderr",
     "output_type": "stream",
     "text": [
      "C:\\Users\\Wind\\anaconda3\\lib\\site-packages\\sklearn\\utils\\validation.py:67: FutureWarning: Pass copy=[[  2.16269841  70.25277778   7.04444444  13.82738095  10.4359127 ]\n",
      " [  5.          43.16666667   3.7         10.83333333   7.26666667]\n",
      " [  1.77272727 101.99397547   6.27954545  11.64747475   8.9635101 ]\n",
      " [  3.3968254   53.55515873   6.55515873  14.43095238  10.49305556]\n",
      " [  0.78174603 105.74444444   7.19047619  12.02222222   9.60634921]], with_mean=[2 2 1 2 0] as keyword args. From version 0.25 passing these as positional arguments will result in an error\n",
      "  warnings.warn(\"Pass {} as keyword args. From version 0.25 \"\n"
     ]
    },
    {
     "data": {
      "text/plain": [
       "StandardScaler(copy=array([[  2.16269841,  70.25277778,   7.04444444,  13.82738095,\n",
       "         10.4359127 ],\n",
       "       [  5.        ,  43.16666667,   3.7       ,  10.83333333,\n",
       "          7.26666667],\n",
       "       [  1.77272727, 101.99397547,   6.27954545,  11.64747475,\n",
       "          8.9635101 ],\n",
       "       [  3.3968254 ,  53.55515873,   6.55515873,  14.43095238,\n",
       "         10.49305556],\n",
       "       [  0.78174603, 105.74444444,   7.19047619,  12.02222222,\n",
       "          9.60634921]]),\n",
       "               with_mean=array([2, 2, 1, 2, 0]))"
      ]
     },
     "execution_count": 117,
     "metadata": {},
     "output_type": "execute_result"
    }
   ],
   "source": [
    "preprocessing.StandardScaler(X_test, Y_test)"
   ]
  },
  {
   "cell_type": "code",
   "execution_count": 179,
   "metadata": {},
   "outputs": [],
   "source": [
    "X_test = weather_test[['AF','Rain','Tmin','Tmax','Tmean']].values #make sure that values are in float\n",
    "Y_test = weather_test['Location_Nr'].values\n",
    "#X_test = preprocessing.MinMaxScaler().fit(X_test).transform(X_test.astype(float)) #normalise the data, optional.\n"
   ]
  },
  {
   "cell_type": "code",
   "execution_count": 180,
   "metadata": {},
   "outputs": [],
   "source": [
    "from sklearn.neighbors import KNeighborsClassifier\n"
   ]
  },
  {
   "cell_type": "code",
   "execution_count": 181,
   "metadata": {},
   "outputs": [],
   "source": [
    "# Let's try using k= 4\n",
    "k = 4\n",
    "#Train Model and Predict  \n",
    "neigh = KNeighborsClassifier(n_neighbors = k).fit(X_train,Y_train)\n",
    "\n",
    "# New Y values from training set\n",
    "X_new = neigh.predict(X_train)\n",
    "\n",
    "Y_new = neigh.predict(X_test)\n"
   ]
  },
  {
   "cell_type": "code",
   "execution_count": 182,
   "metadata": {},
   "outputs": [
    {
     "name": "stdout",
     "output_type": "stream",
     "text": [
      "Train set Accuracy with k= 4:  0.6666666666666666\n",
      "Test set Accuracy with k = 4:  0.6\n"
     ]
    }
   ],
   "source": [
    "# Evaluate accuracy\n",
    "from sklearn.metrics import accuracy_score\n",
    "print(\"Train set Accuracy with k= 4: \", accuracy_score(Y_train, X_new))\n",
    "print(\"Test set Accuracy with k = 4: \", accuracy_score(Y_test, Y_new))"
   ]
  },
  {
   "cell_type": "code",
   "execution_count": 127,
   "metadata": {},
   "outputs": [
    {
     "name": "stdout",
     "output_type": "stream",
     "text": [
      "Train set Accuracy with k=1-9:  [0.66666667 0.66666667 0.66666667 0.66666667 0.66666667 0.66666667\n",
      " 0.66666667 0.66666667 0.66666667]\n",
      "Test set Accuracy with k= 1-9:  [0.6 0.6 0.8 0.6 0.8 0.8 0.8 0.6 0.6]\n"
     ]
    }
   ],
   "source": [
    "# try with different ks to find out the model that provides best accuracy\n",
    "#Train the model with different k using trainset and calculate accuracy with test set\n",
    "K = 10\n",
    "avg_accuracy = np.zeros((K-1))\n",
    "std_accuracy = np.zeros((K-1))\n",
    "train_accuracy = np.zeros((K-1))\n",
    "for n in range(1,K):  \n",
    "    neigh = KNeighborsClassifier(n_neighbors = n).fit(X_train,Y_train)\n",
    "    Y_new = neigh.predict(X_test)\n",
    "    avg_accuracy[n-1] = accuracy_score(Y_test, Y_new)\n",
    "    \n",
    "    train_accuracy[n-1] =accuracy_score(Y_train, X_new)\n",
    "    \n",
    "    std_accuracy[n-1]=np.std(Y_new ==Y_test)/np.sqrt(Y_new.shape[0])\n",
    "    \n",
    "print(\"Train set Accuracy with k=1-9: \", train_accuracy)\n",
    "print(\"Test set Accuracy with k= 1-9: \",avg_accuracy)\n"
   ]
  },
  {
   "cell_type": "code",
   "execution_count": 178,
   "metadata": {},
   "outputs": [
    {
     "name": "stdout",
     "output_type": "stream",
     "text": [
      "Train set Accuracy with k = 7:  0.6296296296296297\n",
      "Test set Accuracy with k = 7:  0.8\n"
     ]
    }
   ],
   "source": [
    "k = 7\n",
    "#Train Model and Predict  \n",
    "neigh7 = KNeighborsClassifier(n_neighbors = k).fit(X_train,Y_train)\n",
    "Y_new7 = neigh7.predict(X_test)\n",
    "\n",
    "print(\"Train set Accuracy with k = 7: \", accuracy_score(Y_train, neigh7.predict(X_train)))\n",
    "print(\"Test set Accuracy with k = 7: \", accuracy_score(Y_test, Y_new7))"
   ]
  },
  {
   "cell_type": "code",
   "execution_count": 124,
   "metadata": {},
   "outputs": [
    {
     "name": "stdout",
     "output_type": "stream",
     "text": [
      "Train set Accuracy with k = 3:  0.7407407407407407\n",
      "Test set Accuracy with k = 3:  0.8\n"
     ]
    }
   ],
   "source": [
    "k = 3\n",
    "#Train Model and Predict  \n",
    "neigh3 = KNeighborsClassifier(n_neighbors = k).fit(X_train,Y_train)\n",
    "Y_new3 = neigh3.predict(X_test)\n",
    "\n",
    "print(\"Train set Accuracy with k = 3: \", accuracy_score(Y_train, neigh3.predict(X_train)))\n",
    "print(\"Test set Accuracy with k = 3: \",accuracy_score(Y_test, Y_new3))"
   ]
  },
  {
   "cell_type": "code",
   "execution_count": 125,
   "metadata": {},
   "outputs": [
    {
     "name": "stdout",
     "output_type": "stream",
     "text": [
      "Train set Accuracy with k = 2:  0.7777777777777778\n",
      "Test set Accuracy with k = 2:  0.8\n"
     ]
    }
   ],
   "source": [
    "k = 2\n",
    "#Train Model and Predict  \n",
    "neigh2 = KNeighborsClassifier(n_neighbors = k).fit(X_train,Y_train)\n",
    "Y_new2 = neigh2.predict(X_test)\n",
    "\n",
    "print(\"Train set Accuracy with k = 2: \", accuracy_score(Y_train, neigh2.predict(X_train)))\n",
    "print(\"Test set Accuracy with k = 2: \",accuracy_score(Y_test, Y_new3))"
   ]
  },
  {
   "cell_type": "code",
   "execution_count": 128,
   "metadata": {},
   "outputs": [
    {
     "name": "stdout",
     "output_type": "stream",
     "text": [
      "Train set Accuracy with k = 5:  0.6666666666666666\n",
      "Test set Accuracy with k = 5:  0.8\n"
     ]
    }
   ],
   "source": [
    "k = 5\n",
    "#Train Model and Predict  \n",
    "neigh5 = KNeighborsClassifier(n_neighbors = k).fit(X_train,Y_train)\n",
    "Y_new5 = neigh5.predict(X_test)\n",
    "\n",
    "print(\"Train set Accuracy with k = 5: \", accuracy_score(Y_train, neigh5.predict(X_train)))\n",
    "print(\"Test set Accuracy with k = 5: \", accuracy_score(Y_test, Y_new5))"
   ]
  },
  {
   "cell_type": "code",
   "execution_count": 129,
   "metadata": {},
   "outputs": [
    {
     "name": "stdout",
     "output_type": "stream",
     "text": [
      "Train set Accuracy with k = 6:  0.5925925925925926\n",
      "Test set Accuracy with k = 6:  0.8\n"
     ]
    }
   ],
   "source": [
    "k = 6\n",
    "#Train Model and Predict  \n",
    "neigh6 = KNeighborsClassifier(n_neighbors = k).fit(X_train,Y_train)\n",
    "Y_new6 = neigh6.predict(X_test)\n",
    "\n",
    "print(\"Train set Accuracy with k = 6: \", accuracy_score(Y_train, neigh6.predict(X_train)))\n",
    "print(\"Test set Accuracy with k = 6: \", accuracy_score(Y_test, Y_new6))"
   ]
  },
  {
   "cell_type": "code",
   "execution_count": null,
   "metadata": {},
   "outputs": [],
   "source": []
  },
  {
   "cell_type": "code",
   "execution_count": null,
   "metadata": {},
   "outputs": [],
   "source": []
  },
  {
   "cell_type": "code",
   "execution_count": 632,
   "metadata": {},
   "outputs": [],
   "source": [
    "##################################################\n",
    "###### Try train_test_split instead  #############\n",
    "###################################################"
   ]
  },
  {
   "cell_type": "code",
   "execution_count": 130,
   "metadata": {},
   "outputs": [
    {
     "data": {
      "text/html": [
       "<div>\n",
       "<style scoped>\n",
       "    .dataframe tbody tr th:only-of-type {\n",
       "        vertical-align: middle;\n",
       "    }\n",
       "\n",
       "    .dataframe tbody tr th {\n",
       "        vertical-align: top;\n",
       "    }\n",
       "\n",
       "    .dataframe thead th {\n",
       "        text-align: right;\n",
       "    }\n",
       "</style>\n",
       "<table border=\"1\" class=\"dataframe\">\n",
       "  <thead>\n",
       "    <tr style=\"text-align: right;\">\n",
       "      <th></th>\n",
       "      <th>Stations_x</th>\n",
       "      <th>Month</th>\n",
       "      <th>Tmax</th>\n",
       "      <th>Tmin</th>\n",
       "      <th>AF</th>\n",
       "      <th>Rain</th>\n",
       "      <th>Tmean</th>\n",
       "      <th>Stations_y</th>\n",
       "      <th>Latitude</th>\n",
       "      <th>Longtitude</th>\n",
       "      <th>Location</th>\n",
       "      <th>Location_Nr</th>\n",
       "    </tr>\n",
       "  </thead>\n",
       "  <tbody>\n",
       "    <tr>\n",
       "      <th>0</th>\n",
       "      <td>aberporth</td>\n",
       "      <td>6.5</td>\n",
       "      <td>12.888889</td>\n",
       "      <td>7.687302</td>\n",
       "      <td>1.115079</td>\n",
       "      <td>78.828175</td>\n",
       "      <td>10.288095</td>\n",
       "      <td>aberporth</td>\n",
       "      <td>52.139</td>\n",
       "      <td>-4.570</td>\n",
       "      <td>South</td>\n",
       "      <td>2</td>\n",
       "    </tr>\n",
       "    <tr>\n",
       "      <th>1</th>\n",
       "      <td>armagh</td>\n",
       "      <td>6.5</td>\n",
       "      <td>13.702381</td>\n",
       "      <td>6.274603</td>\n",
       "      <td>2.992063</td>\n",
       "      <td>69.495238</td>\n",
       "      <td>9.988492</td>\n",
       "      <td>armagh</td>\n",
       "      <td>54.352</td>\n",
       "      <td>-6.649</td>\n",
       "      <td>Central</td>\n",
       "      <td>0</td>\n",
       "    </tr>\n",
       "    <tr>\n",
       "      <th>2</th>\n",
       "      <td>ballypatrick</td>\n",
       "      <td>6.5</td>\n",
       "      <td>11.864928</td>\n",
       "      <td>6.249531</td>\n",
       "      <td>1.625902</td>\n",
       "      <td>113.057143</td>\n",
       "      <td>9.057229</td>\n",
       "      <td>ballypatrick</td>\n",
       "      <td>55.181</td>\n",
       "      <td>-6.153</td>\n",
       "      <td>Central</td>\n",
       "      <td>0</td>\n",
       "    </tr>\n",
       "    <tr>\n",
       "      <th>3</th>\n",
       "      <td>bradford</td>\n",
       "      <td>6.5</td>\n",
       "      <td>13.282143</td>\n",
       "      <td>6.448413</td>\n",
       "      <td>3.027778</td>\n",
       "      <td>74.966270</td>\n",
       "      <td>9.865278</td>\n",
       "      <td>bradford</td>\n",
       "      <td>53.813</td>\n",
       "      <td>-1.772</td>\n",
       "      <td>Central</td>\n",
       "      <td>0</td>\n",
       "    </tr>\n",
       "    <tr>\n",
       "      <th>4</th>\n",
       "      <td>braemar</td>\n",
       "      <td>6.5</td>\n",
       "      <td>10.984524</td>\n",
       "      <td>3.012169</td>\n",
       "      <td>8.515873</td>\n",
       "      <td>78.164815</td>\n",
       "      <td>6.998347</td>\n",
       "      <td>braemar</td>\n",
       "      <td>57.006</td>\n",
       "      <td>-3.396</td>\n",
       "      <td>Central</td>\n",
       "      <td>0</td>\n",
       "    </tr>\n",
       "  </tbody>\n",
       "</table>\n",
       "</div>"
      ],
      "text/plain": [
       "     Stations_x  Month       Tmax      Tmin        AF        Rain      Tmean  \\\n",
       "0     aberporth    6.5  12.888889  7.687302  1.115079   78.828175  10.288095   \n",
       "1        armagh    6.5  13.702381  6.274603  2.992063   69.495238   9.988492   \n",
       "2  ballypatrick    6.5  11.864928  6.249531  1.625902  113.057143   9.057229   \n",
       "3      bradford    6.5  13.282143  6.448413  3.027778   74.966270   9.865278   \n",
       "4       braemar    6.5  10.984524  3.012169  8.515873   78.164815   6.998347   \n",
       "\n",
       "     Stations_y  Latitude  Longtitude Location  Location_Nr  \n",
       "0     aberporth    52.139      -4.570    South            2  \n",
       "1        armagh    54.352      -6.649  Central            0  \n",
       "2  ballypatrick    55.181      -6.153  Central            0  \n",
       "3      bradford    53.813      -1.772  Central            0  \n",
       "4       braemar    57.006      -3.396  Central            0  "
      ]
     },
     "execution_count": 130,
     "metadata": {},
     "output_type": "execute_result"
    }
   ],
   "source": [
    "weather_copy['Location_Nr'] =le.fit_transform(weather_copy['Location'])\n",
    "weather_copy.head()"
   ]
  },
  {
   "cell_type": "code",
   "execution_count": 131,
   "metadata": {},
   "outputs": [
    {
     "name": "stdout",
     "output_type": "stream",
     "text": [
      "Train set: (29, 5) (29,)\n",
      "Test set: (8, 5) (8,)\n"
     ]
    }
   ],
   "source": [
    "# We can try to set randomly the training and test size instead of removing 5 last stations\n",
    "# 5 out of 37 meaning the train-test split is 87/13\n",
    "from sklearn.model_selection import train_test_split\n",
    "\n",
    "X1 = weather_copy[['AF','Rain','Tmean','Tmax','Tmean']].values #makre sure that values are in float\n",
    "Y1 = weather_copy['Location_Nr'].values\n",
    "#X1 = preprocessing.MinMaxScaler().fit(X1).transform(X1.astype(float)) #normalise the data\n",
    "\n",
    "# spilt 80/20, according to pareto principle\n",
    "X1_train, X1_test, Y1_train, Y1_test = train_test_split( X1, Y1, test_size=0.2, random_state=42, stratify=Y1)\n",
    "print ('Train set:', X1_train.shape,  Y1_train.shape)\n",
    "print ('Test set:', X1_test.shape,  Y1_test.shape)\n",
    "\n"
   ]
  },
  {
   "cell_type": "code",
   "execution_count": 132,
   "metadata": {},
   "outputs": [
    {
     "name": "stderr",
     "output_type": "stream",
     "text": [
      "C:\\Users\\Wind\\anaconda3\\lib\\site-packages\\sklearn\\utils\\validation.py:67: FutureWarning: Pass copy=[[  4.24646465  56.58189755   8.98356061  12.73582973   8.98356061]\n",
      " [  2.33297258  57.8705267   10.06760462  13.45865801  10.06760462]\n",
      " [  0.78174603 105.74444444   9.60634921  12.02222222   9.60634921]\n",
      " [  4.48809524  57.70555556   9.92321429  14.02539683   9.92321429]\n",
      " [  3.02777778  74.96626984   9.86527778  13.28214286   9.86527778]\n",
      " [  3.3968254   53.55515873  10.49305556  14.43095238  10.49305556]\n",
      " [  5.          43.16666667   7.26666667  10.83333333   7.26666667]\n",
      " [  2.10714286  52.75595238  11.87222222  15.78888889  11.87222222]\n",
      " [  1.68001443  79.00714286  11.36038961  14.70284993  11.36038961]\n",
      " [  2.77380952  53.04404762  10.36646825  13.98928571  10.36646825]\n",
      " [  2.76984127 100.41388889  11.20436508  15.08531746  11.20436508]\n",
      " [  2.21031746 105.63285714   7.86230159   9.94325397   7.86230159]\n",
      " [  3.02380952 103.80595238   9.84801587  13.25793651   9.84801587]\n",
      " [  3.21825397  65.53452381  10.88373016  14.88412698  10.88373016]\n",
      " [  1.46825397  73.66865079  10.75257937  13.44087302  10.75257937]\n",
      " [  1.11507937  78.8281746   10.28809524  12.88888889  10.28809524]\n",
      " [  5.03571429  83.56190476   8.84464286  12.69960317   8.84464286]\n",
      " [  1.16269841  66.28571429  11.78789683  14.79722222  11.78789683]\n",
      " [  4.61507937  73.825       10.81607143  15.2484127   10.81607143]\n",
      " [  2.27371332 142.26683502   9.7726431   12.87550505   9.7726431 ]\n",
      " [  1.62590188 113.05714286   9.05722944  11.86492785   9.05722944]\n",
      " [  2.16269841  70.25277778  10.4359127   13.82738095  10.4359127 ]\n",
      " [  3.64285714  58.22579365   9.61825397  13.34206349   9.61825397]\n",
      " [  2.99206349  69.4952381    9.98849206  13.70238095   9.98849206]\n",
      " [  2.64        77.16933333  10.55783333  14.08966667  10.55783333]\n",
      " [  2.01938432  53.85039683  10.79327922  14.03570948  10.79327922]\n",
      " [  1.77272727 101.99397547   8.9635101   11.64747475   8.9635101 ]\n",
      " [  3.21428571  47.16547619  10.88134921  15.03650794  10.88134921]\n",
      " [  2.45238095  48.33113276   9.82622655  12.85757576   9.82622655]], with_mean=[1 0 0 2 0 2 2 2 2 2 2 1 0 2 2 2 0 2 2 0 0 2 0 0 2 2 1 2 2] as keyword args. From version 0.25 passing these as positional arguments will result in an error\n",
      "  warnings.warn(\"Pass {} as keyword args. From version 0.25 \"\n"
     ]
    },
    {
     "data": {
      "text/plain": [
       "StandardScaler(copy=array([[  4.24646465,  56.58189755,   8.98356061,  12.73582973,\n",
       "          8.98356061],\n",
       "       [  2.33297258,  57.8705267 ,  10.06760462,  13.45865801,\n",
       "         10.06760462],\n",
       "       [  0.78174603, 105.74444444,   9.60634921,  12.02222222,\n",
       "          9.60634921],\n",
       "       [  4.48809524,  57.70555556,   9.92321429,  14.02539683,\n",
       "          9.92321429],\n",
       "       [  3.02777778,  74.96626984,   9.86527778,  13.28214286,\n",
       "          9.86527778],\n",
       "       [  3.3968254 ,  53.55515873,  10....\n",
       "       [  2.64      ,  77.16933333,  10.55783333,  14.08966667,\n",
       "         10.55783333],\n",
       "       [  2.01938432,  53.85039683,  10.79327922,  14.03570948,\n",
       "         10.79327922],\n",
       "       [  1.77272727, 101.99397547,   8.9635101 ,  11.64747475,\n",
       "          8.9635101 ],\n",
       "       [  3.21428571,  47.16547619,  10.88134921,  15.03650794,\n",
       "         10.88134921],\n",
       "       [  2.45238095,  48.33113276,   9.82622655,  12.85757576,\n",
       "          9.82622655]]),\n",
       "               with_mean=array([1, 0, 0, 2, 0, 2, 2, 2, 2, 2, 2, 1, 0, 2, 2, 2, 0, 2, 2, 0, 0, 2,\n",
       "       0, 0, 2, 2, 1, 2, 2]))"
      ]
     },
     "execution_count": 132,
     "metadata": {},
     "output_type": "execute_result"
    }
   ],
   "source": [
    "# Standardise Training set\n",
    "\n",
    "preprocessing.StandardScaler(X1_train, Y1_train)"
   ]
  },
  {
   "cell_type": "code",
   "execution_count": 133,
   "metadata": {},
   "outputs": [
    {
     "name": "stderr",
     "output_type": "stream",
     "text": [
      "C:\\Users\\Wind\\anaconda3\\lib\\site-packages\\sklearn\\utils\\validation.py:67: FutureWarning: Pass copy=[[  5.29608586 154.48125      8.33025568  11.78708965   8.33025568]\n",
      " [  4.04365079  60.63531746  10.77242063  15.00039683  10.77242063]\n",
      " [  8.51587302  78.16481481   6.99834656  10.98452381   6.99834656]\n",
      " [  3.11111111  65.2968254    8.36190476  11.19166667   8.36190476]\n",
      " [  4.40079365  61.4984127    9.1140873   12.81190476   9.1140873 ]\n",
      " [  2.82142857  57.17301587  11.18690476  15.21626984  11.18690476]\n",
      " [  6.50793651 155.1234127    7.85099206  11.56468254   7.85099206]\n",
      " [  0.60714286  88.96746032  11.20515873  13.70555556  11.20515873]], with_mean=[2 2 0 1 0 2 0 2] as keyword args. From version 0.25 passing these as positional arguments will result in an error\n",
      "  warnings.warn(\"Pass {} as keyword args. From version 0.25 \"\n"
     ]
    },
    {
     "data": {
      "text/plain": [
       "StandardScaler(copy=array([[  5.29608586, 154.48125   ,   8.33025568,  11.78708965,\n",
       "          8.33025568],\n",
       "       [  4.04365079,  60.63531746,  10.77242063,  15.00039683,\n",
       "         10.77242063],\n",
       "       [  8.51587302,  78.16481481,   6.99834656,  10.98452381,\n",
       "          6.99834656],\n",
       "       [  3.11111111,  65.2968254 ,   8.36190476,  11.19166667,\n",
       "          8.36190476],\n",
       "       [  4.40079365,  61.4984127 ,   9.1140873 ,  12.81190476,\n",
       "          9.1140873 ],\n",
       "       [  2.82142857,  57.17301587,  11.18690476,  15.21626984,\n",
       "         11.18690476],\n",
       "       [  6.50793651, 155.1234127 ,   7.85099206,  11.56468254,\n",
       "          7.85099206],\n",
       "       [  0.60714286,  88.96746032,  11.20515873,  13.70555556,\n",
       "         11.20515873]]),\n",
       "               with_mean=array([2, 2, 0, 1, 0, 2, 0, 2]))"
      ]
     },
     "execution_count": 133,
     "metadata": {},
     "output_type": "execute_result"
    }
   ],
   "source": [
    "# standardise testing set\n",
    "preprocessing.StandardScaler(X1_test, Y1_test)"
   ]
  },
  {
   "cell_type": "code",
   "execution_count": 194,
   "metadata": {},
   "outputs": [],
   "source": [
    "# find accuracies of different k using train test split 80%20\n",
    "neigh_ = KNeighborsClassifier(n_neighbors = k).fit(X1_train,Y1_train)\n",
    "# New Y values from training set\n",
    "X1_new = neigh_.predict(X1_train)\n",
    "\n",
    "Y1_new = neigh_.predict(X1_test)"
   ]
  },
  {
   "cell_type": "code",
   "execution_count": 197,
   "metadata": {},
   "outputs": [
    {
     "name": "stdout",
     "output_type": "stream",
     "text": [
      "Accuracy of training set when k=3 0.7586206896551724\n"
     ]
    }
   ],
   "source": [
    "k=3\n",
    "neigh_ = KNeighborsClassifier(n_neighbors = k).fit(X1_train,Y1_train)\n",
    "knn.fit(X1_train,Y1_train)\n",
    "print('Accuracy of training set when k=3', accuracy_score(Y1_train, neigh_.predict(X1_train)))"
   ]
  },
  {
   "cell_type": "code",
   "execution_count": 198,
   "metadata": {},
   "outputs": [
    {
     "name": "stdout",
     "output_type": "stream",
     "text": [
      "Accuracy of test set when k=3 0.5\n"
     ]
    }
   ],
   "source": [
    "k= 3\n",
    "print('Accuracy of test set when k=3', accuracy_score(Y1_test, neigh_.predict(X1_test)))"
   ]
  },
  {
   "cell_type": "code",
   "execution_count": 203,
   "metadata": {},
   "outputs": [
    {
     "name": "stdout",
     "output_type": "stream",
     "text": [
      "Accuracy of training set when k=7 0.6896551724137931\n",
      "Accuracy of test set when k=7 0.625\n"
     ]
    }
   ],
   "source": [
    "k = 7\n",
    "\n",
    "neigh_7 = KNeighborsClassifier(n_neighbors = k).fit(X1_train,Y1_train)\n",
    "print('Accuracy of training set when k=7', accuracy_score(Y1_train, neigh_7.predict(X1_train)))\n",
    "print('Accuracy of test set when k=7', accuracy_score(Y1_test, neigh_7.predict(X1_test)))"
   ]
  },
  {
   "cell_type": "code",
   "execution_count": 200,
   "metadata": {},
   "outputs": [
    {
     "name": "stdout",
     "output_type": "stream",
     "text": [
      "Accuracy of training set when k=5 0.7241379310344828\n",
      "Accuracy of test set when k=5 0.5\n"
     ]
    }
   ],
   "source": [
    "k = 5\n",
    "\n",
    "neigh_5a = KNeighborsClassifier(n_neighbors = k).fit(X1_train,Y1_train)\n",
    "print('Accuracy of training set when k=5', accuracy_score(Y1_train, neigh_5a.predict(X1_train)))\n",
    "print('Accuracy of test set when k=5', accuracy_score(Y1_test, neigh_5a.predict(X1_test)))"
   ]
  },
  {
   "cell_type": "code",
   "execution_count": 201,
   "metadata": {},
   "outputs": [
    {
     "name": "stdout",
     "output_type": "stream",
     "text": [
      "Accuracy of training set when k=2 0.7241379310344828\n",
      "Accuracy of test set when k=2 0.375\n"
     ]
    }
   ],
   "source": [
    "k = 2\n",
    "\n",
    "neigh_2a = KNeighborsClassifier(n_neighbors = k).fit(X1_train,Y1_train)\n",
    "print('Accuracy of training set when k=2', accuracy_score(Y1_train, neigh_2a.predict(X1_train)))\n",
    "print('Accuracy of test set when k=2', accuracy_score(Y1_test, neigh_2a.predict(X1_test)))"
   ]
  },
  {
   "cell_type": "code",
   "execution_count": 176,
   "metadata": {},
   "outputs": [],
   "source": [
    "#Setup arrays to store training and test accuracies\n",
    "neighbors = np.arange(1,12)\n",
    "train_accuracy =np.empty(len(neighbors))\n",
    "test_accuracy = np.empty(len(neighbors))\n",
    "\n",
    "for i,k in enumerate(neighbors):\n",
    "    #Setup a knn classifier with k neighbors\n",
    "    knn = KNeighborsClassifier(n_neighbors=k)\n",
    "    \n",
    "    #Fit the model\n",
    "    knn.fit(X1_train, Y1_train)\n",
    "    \n",
    "    #Compute accuracy on the training set\n",
    "    train_accuracy[i] = knn.score(X1_train, Y1_train)\n",
    "    \n",
    "    #Compute accuracy on the test set\n",
    "    test_accuracy[i] = knn.score(X1_test, Y1_test)"
   ]
  },
  {
   "cell_type": "code",
   "execution_count": 177,
   "metadata": {},
   "outputs": [
    {
     "data": {
      "image/png": "[encoded data removed]",
      "text/plain": [
       "<Figure size 432x288 with 1 Axes>"
      ]
     },
     "metadata": {
      "needs_background": "light"
     },
     "output_type": "display_data"
    }
   ],
   "source": [
    "#Generate plot\n",
    "plt.title('k-NN Varying number of neighbors')\n",
    "plt.plot(neighbors, test_accuracy, label='Testing Accuracy')\n",
    "plt.plot(neighbors, train_accuracy, label='Training accuracy')\n",
    "plt.legend()\n",
    "plt.xlabel('Number of neighbors')\n",
    "plt.ylabel('Accuracy')\n",
    "plt.show()\n",
    "###looks like k is 7 is best for testing accuracy which confirms our findings"
   ]
  },
  {
   "cell_type": "code",
   "execution_count": 204,
   "metadata": {},
   "outputs": [
    {
     "data": {
      "text/plain": [
       "array([[2, 0, 1],\n",
       "       [0, 0, 1],\n",
       "       [1, 0, 3]], dtype=int64)"
      ]
     },
     "execution_count": 204,
     "metadata": {},
     "output_type": "execute_result"
    }
   ],
   "source": [
    "from sklearn.metrics import confusion_matrix\n",
    "y1_pred = neigh_7.predict(X1_test)\n",
    "confusion_matrix(Y1_test,y1_pred)"
   ]
  },
  {
   "cell_type": "code",
   "execution_count": 205,
   "metadata": {},
   "outputs": [
    {
     "data": {
      "text/html": [
       "<div>\n",
       "<style scoped>\n",
       "    .dataframe tbody tr th:only-of-type {\n",
       "        vertical-align: middle;\n",
       "    }\n",
       "\n",
       "    .dataframe tbody tr th {\n",
       "        vertical-align: top;\n",
       "    }\n",
       "\n",
       "    .dataframe thead th {\n",
       "        text-align: right;\n",
       "    }\n",
       "</style>\n",
       "<table border=\"1\" class=\"dataframe\">\n",
       "  <thead>\n",
       "    <tr style=\"text-align: right;\">\n",
       "      <th>Predicted</th>\n",
       "      <th>0</th>\n",
       "      <th>2</th>\n",
       "      <th>All</th>\n",
       "    </tr>\n",
       "    <tr>\n",
       "      <th>True</th>\n",
       "      <th></th>\n",
       "      <th></th>\n",
       "      <th></th>\n",
       "    </tr>\n",
       "  </thead>\n",
       "  <tbody>\n",
       "    <tr>\n",
       "      <th>0</th>\n",
       "      <td>2</td>\n",
       "      <td>1</td>\n",
       "      <td>3</td>\n",
       "    </tr>\n",
       "    <tr>\n",
       "      <th>1</th>\n",
       "      <td>0</td>\n",
       "      <td>1</td>\n",
       "      <td>1</td>\n",
       "    </tr>\n",
       "    <tr>\n",
       "      <th>2</th>\n",
       "      <td>1</td>\n",
       "      <td>3</td>\n",
       "      <td>4</td>\n",
       "    </tr>\n",
       "    <tr>\n",
       "      <th>All</th>\n",
       "      <td>3</td>\n",
       "      <td>5</td>\n",
       "      <td>8</td>\n",
       "    </tr>\n",
       "  </tbody>\n",
       "</table>\n",
       "</div>"
      ],
      "text/plain": [
       "Predicted  0  2  All\n",
       "True                \n",
       "0          2  1    3\n",
       "1          0  1    1\n",
       "2          1  3    4\n",
       "All        3  5    8"
      ]
     },
     "execution_count": 205,
     "metadata": {},
     "output_type": "execute_result"
    }
   ],
   "source": [
    "pd.crosstab(Y1_test, y1_pred, rownames=['True'], colnames=['Predicted'], margins=True)"
   ]
  },
  {
   "cell_type": "code",
   "execution_count": 206,
   "metadata": {},
   "outputs": [
    {
     "name": "stdout",
     "output_type": "stream",
     "text": [
      "              precision    recall  f1-score   support\n",
      "\n",
      "           0       0.67      0.67      0.67         3\n",
      "           1       0.00      0.00      0.00         1\n",
      "           2       0.60      0.75      0.67         4\n",
      "\n",
      "    accuracy                           0.62         8\n",
      "   macro avg       0.42      0.47      0.44         8\n",
      "weighted avg       0.55      0.62      0.58         8\n",
      "\n"
     ]
    },
    {
     "name": "stderr",
     "output_type": "stream",
     "text": [
      "C:\\Users\\Wind\\anaconda3\\lib\\site-packages\\sklearn\\metrics\\_classification.py:1221: UndefinedMetricWarning: Precision and F-score are ill-defined and being set to 0.0 in labels with no predicted samples. Use `zero_division` parameter to control this behavior.\n",
      "  _warn_prf(average, modifier, msg_start, len(result))\n"
     ]
    }
   ],
   "source": [
    "from sklearn.metrics import classification_report\n",
    "print(classification_report(Y1_test,y1_pred))"
   ]
  },
  {
   "cell_type": "code",
   "execution_count": null,
   "metadata": {},
   "outputs": [],
   "source": []
  },
  {
   "cell_type": "code",
   "execution_count": 207,
   "metadata": {},
   "outputs": [
    {
     "name": "stdout",
     "output_type": "stream",
     "text": [
      "Train set Accuracy using 80/20, k=7:  0.6896551724137931\n",
      "Test set Accuracy using 80/20, k=7:  0.625\n"
     ]
    }
   ],
   "source": [
    "#Confirm - evaluate accuracies\n",
    "print(\"Train set Accuracy using 80/20, k=7: \", neigh_7.score(X1_train, Y1_train)) #neigh_7.predict(X1_train)))\n",
    "print(\"Test set Accuracy using 80/20, k=7: \", neigh_7.score(X1_test, Y1_test))"
   ]
  },
  {
   "cell_type": "code",
   "execution_count": null,
   "metadata": {},
   "outputs": [],
   "source": []
  },
  {
   "cell_type": "code",
   "execution_count": 215,
   "metadata": {},
   "outputs": [
    {
     "name": "stdout",
     "output_type": "stream",
     "text": [
      "Train set Accuracy with different ks:  [1. 1. 1. 1. 1. 1. 1. 1. 1. 1. 1. 1. 1. 1.]\n",
      "Test set Accuracy with different ks:  [0.5   0.375 0.5   0.5   0.5   0.5   0.625 0.5   0.5   0.5   0.5   0.5\n",
      " 0.5   0.5  ]\n"
     ]
    }
   ],
   "source": [
    "K1 = 15\n",
    "avg_acc = np.zeros((K1-1))\n",
    "std_acc = np.zeros((K1-1))\n",
    "train_acc = np.zeros((K1-1))\n",
    "\n",
    "for n in range(1,K1):\n",
    "    \n",
    "    #Train Model and Predict  \n",
    "    neigh_1 = KNeighborsClassifier(n_neighbors = n).fit(X1_train,Y1_train)\n",
    "    Y1_new =neigh_1.predict(X1_test)\n",
    "    avg_acc[n-1] = metrics.accuracy_score(Y1_test, Y1_new)\n",
    "    train_acc[n-1] = metrics.accuracy_score(Y1_train, Y1_train)\n",
    "    std_acc[n-1]=np.std(Y1_new==Y1_test)/np.sqrt(Y1_new.shape[0])\n",
    "\n",
    "print(\"Train set Accuracy with different ks: \", train_acc)    \n",
    "print(\"Test set Accuracy with different ks: \", avg_acc)"
   ]
  },
  {
   "cell_type": "code",
   "execution_count": 214,
   "metadata": {},
   "outputs": [
    {
     "data": {
      "image/png": "[encoded data removed]",
      "text/plain": [
       "<Figure size 432x288 with 1 Axes>"
      ]
     },
     "metadata": {
      "needs_background": "light"
     },
     "output_type": "display_data"
    }
   ],
   "source": [
    "#We can visualise it with a plot to see which ks gives best accuracy\n",
    "plt.plot(range(1,K1),avg_acc,'r')\n",
    "plt.fill_between(range(1,K1),avg_acc - 1 * std_acc,avg_acc + 1 * std_acc, alpha=0.10)\n",
    "plt.legend(('Accuracy ', '+/- std'))\n",
    "plt.ylabel('Accuracy ')\n",
    "plt.xlabel('Number of K-neighbours')\n",
    "plt.tight_layout()\n",
    "plt.show()\n",
    "\n",
    "#this shows that either k= 7 is best\n",
    "\n"
   ]
  },
  {
   "cell_type": "code",
   "execution_count": 210,
   "metadata": {},
   "outputs": [],
   "source": [
    "# If I randomly selected 5 stations out of the 37 stations to do testing, ration 13/87, I would achieve a slightly\n",
    "#better accuracy\n"
   ]
  },
  {
   "cell_type": "code",
   "execution_count": 611,
   "metadata": {},
   "outputs": [
    {
     "name": "stdout",
     "output_type": "stream",
     "text": [
      "The best accuracy was with 0.625 with k= 7\n"
     ]
    }
   ],
   "source": [
    "print( \"The best accuracy was with\", avg_acc.max(), \"with k=\", avg_acc.argmax()+1) "
   ]
  },
  {
   "cell_type": "code",
   "execution_count": 241,
   "metadata": {},
   "outputs": [
    {
     "data": {
      "text/plain": [
       "<seaborn.axisgrid.PairGrid at 0x199075bb100>"
      ]
     },
     "execution_count": 241,
     "metadata": {},
     "output_type": "execute_result"
    },
    {
     "data": {
      "image/png": "[encoded data removed]",
      "text/plain": [
       "<Figure size 1260x1260 with 56 Axes>"
      ]
     },
     "metadata": {
      "needs_background": "light"
     },
     "output_type": "display_data"
    }
   ],
   "source": [
    "# try plotting\n",
    "import seaborn as sns\n",
    "weather_copy.drop(weather_copy[['Month']], axis=1, inplace=True)\n",
    "sns.pairplot(weather_copy) "
   ]
  },
  {
   "cell_type": "code",
   "execution_count": 345,
   "metadata": {},
   "outputs": [
    {
     "data": {
      "image/png": "[encoded data removed]",
      "text/plain": [
       "<Figure size 432x288 with 2 Axes>"
      ]
     },
     "metadata": {
      "needs_background": "light"
     },
     "output_type": "display_data"
    }
   ],
   "source": [
    "#check correlation between column values\n",
    "corrMatrix = weather_copy.corr()\n",
    "sns.heatmap(corrMatrix, annot=True)\n",
    "plt.show()"
   ]
  },
  {
   "cell_type": "code",
   "execution_count": null,
   "metadata": {},
   "outputs": [],
   "source": []
  },
  {
   "cell_type": "code",
   "execution_count": null,
   "metadata": {},
   "outputs": [],
   "source": [
    "############################## \n",
    "#Try classifying using Naive Bayes Classifier\n",
    "##############################"
   ]
  },
  {
   "cell_type": "code",
   "execution_count": 219,
   "metadata": {},
   "outputs": [],
   "source": [
    "features = ['Tmean','Rain']\n",
    "features1 = ['Tmax','Tmin','Tmean', 'AF', 'Rain']\n",
    "features2 = ['Tmean','AF', 'Rain']\n",
    "features3 = ['Tmax','Tmin','AF','Rain']\n",
    "features4 = ['AF','Rain']\n",
    "features5 = ['Tmean']\n",
    "location = ['North','Central','South']"
   ]
  },
  {
   "cell_type": "code",
   "execution_count": 220,
   "metadata": {},
   "outputs": [],
   "source": [
    "from sklearn import preprocessing\n",
    "\n",
    "lab_enc = preprocessing.LabelEncoder()\n",
    "labels_ff1 =lab_enc.fit_transform(weather_copy['Location'])"
   ]
  },
  {
   "cell_type": "code",
   "execution_count": 224,
   "metadata": {},
   "outputs": [],
   "source": [
    "ff1_ = weather_copy[features1]\n",
    "ff1 = ff1_.to_numpy()\n"
   ]
  },
  {
   "cell_type": "code",
   "execution_count": 225,
   "metadata": {},
   "outputs": [],
   "source": [
    "X_train_bayes, X_test_bayes, y_train_bayes, y_test_bayes = train_test_split(ff1, labels_ff1, test_size=0.2,random_state=109, stratify=labels_ff1)"
   ]
  },
  {
   "cell_type": "code",
   "execution_count": 226,
   "metadata": {},
   "outputs": [],
   "source": [
    "from sklearn.naive_bayes import GaussianNB\n",
    "\n",
    "#Create a Gaussian Classifier\n",
    "gnb = GaussianNB()\n",
    "\n",
    "#Train the model using the training sets\n",
    "gnb.fit(X_train_bayes, y_train_bayes)\n",
    "\n",
    "#Predict the response for test dataset\n",
    "y_pred_bayes = gnb.predict(X_test_bayes)\n",
    "y_pred_bayes_train = gnb.predict(X_train_bayes) "
   ]
  },
  {
   "cell_type": "code",
   "execution_count": 227,
   "metadata": {},
   "outputs": [
    {
     "name": "stdout",
     "output_type": "stream",
     "text": [
      "Accuracy of train set for feature1: 0.7931034482758621\n",
      "Accuracy of test set for feature1: 0.75\n"
     ]
    }
   ],
   "source": [
    "print(\"Accuracy of train set for feature1:\",metrics.accuracy_score(y_train_bayes, y_pred_bayes_train))\n",
    "print(\"Accuracy of test set for feature1:\",metrics.accuracy_score(y_test_bayes, y_pred_bayes))\n"
   ]
  },
  {
   "cell_type": "code",
   "execution_count": 228,
   "metadata": {},
   "outputs": [],
   "source": [
    "# check the labels\n",
    "weather_copy['Class'] = labels_ff1 "
   ]
  },
  {
   "cell_type": "code",
   "execution_count": 230,
   "metadata": {},
   "outputs": [],
   "source": [
    "weather_copy.drop('Stations_y',axis=1, inplace= True)"
   ]
  },
  {
   "cell_type": "code",
   "execution_count": 231,
   "metadata": {},
   "outputs": [
    {
     "data": {
      "text/html": [
       "<div>\n",
       "<style scoped>\n",
       "    .dataframe tbody tr th:only-of-type {\n",
       "        vertical-align: middle;\n",
       "    }\n",
       "\n",
       "    .dataframe tbody tr th {\n",
       "        vertical-align: top;\n",
       "    }\n",
       "\n",
       "    .dataframe thead th {\n",
       "        text-align: right;\n",
       "    }\n",
       "</style>\n",
       "<table border=\"1\" class=\"dataframe\">\n",
       "  <thead>\n",
       "    <tr style=\"text-align: right;\">\n",
       "      <th></th>\n",
       "      <th>Month</th>\n",
       "      <th>Tmax</th>\n",
       "      <th>Tmin</th>\n",
       "      <th>AF</th>\n",
       "      <th>Rain</th>\n",
       "      <th>Tmean</th>\n",
       "      <th>Latitude</th>\n",
       "      <th>Longtitude</th>\n",
       "      <th>Location_Nr</th>\n",
       "      <th>Class</th>\n",
       "    </tr>\n",
       "    <tr>\n",
       "      <th>Location</th>\n",
       "      <th></th>\n",
       "      <th></th>\n",
       "      <th></th>\n",
       "      <th></th>\n",
       "      <th></th>\n",
       "      <th></th>\n",
       "      <th></th>\n",
       "      <th></th>\n",
       "      <th></th>\n",
       "      <th></th>\n",
       "    </tr>\n",
       "  </thead>\n",
       "  <tbody>\n",
       "    <tr>\n",
       "      <th>Central</th>\n",
       "      <td>6.500000</td>\n",
       "      <td>12.655546</td>\n",
       "      <td>5.783110</td>\n",
       "      <td>3.680097</td>\n",
       "      <td>91.981729</td>\n",
       "      <td>9.219328</td>\n",
       "      <td>55.396333</td>\n",
       "      <td>-3.815083</td>\n",
       "      <td>0</td>\n",
       "      <td>0</td>\n",
       "    </tr>\n",
       "    <tr>\n",
       "      <th>North</th>\n",
       "      <td>6.500000</td>\n",
       "      <td>11.379556</td>\n",
       "      <td>5.706082</td>\n",
       "      <td>2.835155</td>\n",
       "      <td>82.376389</td>\n",
       "      <td>8.542819</td>\n",
       "      <td>58.600000</td>\n",
       "      <td>-3.602500</td>\n",
       "      <td>1</td>\n",
       "      <td>1</td>\n",
       "    </tr>\n",
       "    <tr>\n",
       "      <th>South</th>\n",
       "      <td>6.258333</td>\n",
       "      <td>14.079605</td>\n",
       "      <td>6.968404</td>\n",
       "      <td>2.812007</td>\n",
       "      <td>69.324602</td>\n",
       "      <td>10.524005</td>\n",
       "      <td>51.940619</td>\n",
       "      <td>-1.928571</td>\n",
       "      <td>2</td>\n",
       "      <td>2</td>\n",
       "    </tr>\n",
       "  </tbody>\n",
       "</table>\n",
       "</div>"
      ],
      "text/plain": [
       "             Month       Tmax      Tmin        AF       Rain      Tmean  \\\n",
       "Location                                                                  \n",
       "Central   6.500000  12.655546  5.783110  3.680097  91.981729   9.219328   \n",
       "North     6.500000  11.379556  5.706082  2.835155  82.376389   8.542819   \n",
       "South     6.258333  14.079605  6.968404  2.812007  69.324602  10.524005   \n",
       "\n",
       "           Latitude  Longtitude  Location_Nr  Class  \n",
       "Location                                             \n",
       "Central   55.396333   -3.815083            0      0  \n",
       "North     58.600000   -3.602500            1      1  \n",
       "South     51.940619   -1.928571            2      2  "
      ]
     },
     "execution_count": 231,
     "metadata": {},
     "output_type": "execute_result"
    }
   ],
   "source": [
    "weather_copy.groupby('Location').mean()"
   ]
  },
  {
   "cell_type": "code",
   "execution_count": 232,
   "metadata": {},
   "outputs": [
    {
     "name": "stdout",
     "output_type": "stream",
     "text": [
      "Accuracy of train set for features: 0.8620689655172413\n",
      "Accuracy of test set for features: 0.375\n"
     ]
    }
   ],
   "source": [
    "# play with other features set to see if we can improve accuracy of test set\n",
    "#features Tmean and Rain\n",
    "labels_ff =lab_enc.fit_transform(weather_copy['Location'])\n",
    "ff_ = weather_copy[features]\n",
    "ff = ff_.to_numpy()\n",
    "\n",
    "X_train_bayes_ff, X_test_bayes_ff, y_train_bayes_ff, y_test_bayes_ff = train_test_split(ff, labels_ff, test_size=0.2,random_state=109)\n",
    "from sklearn.naive_bayes import GaussianNB\n",
    "\n",
    "gnb.fit(X_train_bayes_ff, y_train_bayes_ff)\n",
    "\n",
    "y_pred_bayes_ff = gnb.predict(X_test_bayes_ff)\n",
    "y_pred_bayes_train_ff = gnb.predict(X_train_bayes_ff)\n",
    "\n",
    "print(\"Accuracy of train set for features:\",metrics.accuracy_score(y_train_bayes_ff, y_pred_bayes_train_ff))\n",
    "print(\"Accuracy of test set for features:\",metrics.accuracy_score(y_test_bayes_ff, y_pred_bayes_ff))"
   ]
  },
  {
   "cell_type": "code",
   "execution_count": 233,
   "metadata": {},
   "outputs": [
    {
     "name": "stdout",
     "output_type": "stream",
     "text": [
      "Accuracy of train set for features: 0.7931034482758621\n",
      "Accuracy of test set for features: 0.375\n"
     ]
    }
   ],
   "source": [
    "#features 4 only AF and Rain\n",
    "labels_ff4 =lab_enc.fit_transform(weather_copy['Location'])\n",
    "ff_4 = weather_copy[features4]\n",
    "ff4 = ff_4.to_numpy()\n",
    "\n",
    "X_train_bayes_ff4, X_test_bayes_ff4, y_train_bayes_ff4, y_test_bayes_ff4 = train_test_split(ff4, labels_ff4, test_size=0.2,random_state=109)\n",
    "from sklearn.naive_bayes import GaussianNB\n",
    "\n",
    "gnb.fit(X_train_bayes_ff4, y_train_bayes_ff4)\n",
    "\n",
    "y_pred_bayes_ff4 = gnb.predict(X_test_bayes_ff4)\n",
    "y_pred_bayes_train_ff4 = gnb.predict(X_train_bayes_ff4)\n",
    "\n",
    "print(\"Accuracy of train set for features:\",metrics.accuracy_score(y_train_bayes_ff4, y_pred_bayes_train_ff4))\n",
    "print(\"Accuracy of test set for features:\",metrics.accuracy_score(y_test_bayes_ff4, y_pred_bayes_ff4))"
   ]
  },
  {
   "cell_type": "code",
   "execution_count": 320,
   "metadata": {},
   "outputs": [
    {
     "name": "stdout",
     "output_type": "stream",
     "text": [
      "Accuracy of train set for features: 0.8620689655172413\n",
      "Accuracy of test set for features: 0.375\n"
     ]
    }
   ],
   "source": [
    "#features 2 only Tmean, AF and Rain\n",
    "labels_ff2 =lab_enc.fit_transform(weather_copy['Location'])\n",
    "ff_2 = weather_copy[features2]\n",
    "ff2 = ff_2.to_numpy()\n",
    "\n",
    "X_train_bayes_ff2, X_test_bayes_ff2, y_train_bayes_ff2, y_test_bayes_ff2 = train_test_split(ff2, labels_ff2, test_size=0.2,random_state=109)\n",
    "from sklearn.naive_bayes import GaussianNB\n",
    "\n",
    "gnb.fit(X_train_bayes_ff2, y_train_bayes_ff2)\n",
    "\n",
    "y_pred_bayes_ff2 = gnb.predict(X_test_bayes_ff2)\n",
    "y_pred_bayes_train_ff2 = gnb.predict(X_train_bayes_ff2)\n",
    "\n",
    "print(\"Accuracy of train set for features:\",metrics.accuracy_score(y_train_bayes_ff2, y_pred_bayes_train_ff2))\n",
    "print(\"Accuracy of test set for features:\",metrics.accuracy_score(y_test_bayes_ff2, y_pred_bayes_ff2))"
   ]
  },
  {
   "cell_type": "code",
   "execution_count": 416,
   "metadata": {},
   "outputs": [
    {
     "name": "stdout",
     "output_type": "stream",
     "text": [
      "Accuracy of train set for features: 0.8620689655172413\n",
      "Accuracy of test set for features: 0.5\n"
     ]
    }
   ],
   "source": [
    "#features 3 \n",
    "labels_ff3 =lab_enc.fit_transform(weather_copy['Location'])\n",
    "ff_3 = weather_copy[features3].values\n",
    "#ff3 = ff_3.to_numpy()\n",
    "\n",
    "ff3 = preprocessing.StandardScaler().fit(ff_3).transform(ff_3.astype(float)) \n",
    "\n",
    "\n",
    "X_train_bayes_ff3, X_test_bayes_ff3, y_train_bayes_ff3, y_test_bayes_ff3 = train_test_split(ff3, labels_ff3, test_size=0.2,random_state=109)\n",
    "\n",
    "gnb.fit(X_train_bayes_ff3, y_train_bayes_ff3)\n",
    "\n",
    "y_pred_bayes_ff3 = gnb.predict(X_test_bayes_ff3)\n",
    "y_pred_bayes_train_ff3 = gnb.predict(X_train_bayes_ff3)\n",
    "\n",
    "print(\"Accuracy of train set for features:\",metrics.accuracy_score(y_train_bayes_ff3, y_pred_bayes_train_ff3))\n",
    "print(\"Accuracy of test set for features:\",metrics.accuracy_score(y_test_bayes_ff3, y_pred_bayes_ff3))"
   ]
  },
  {
   "cell_type": "code",
   "execution_count": 415,
   "metadata": {},
   "outputs": [
    {
     "name": "stdout",
     "output_type": "stream",
     "text": [
      "Accuracy of train set for features: 0.6896551724137931\n",
      "Accuracy of test set for features: 0.5\n"
     ]
    }
   ],
   "source": [
    "#what about only rain: can u predict based on the rain\n",
    "#features 5\n",
    "labels_ff5 =lab_enc.fit_transform(weather_copy['Location'])\n",
    "ff_5 = weather_copy[features5].values\n",
    "#ff5 = ff_5.to_numpy()\n",
    "\n",
    "ff5 = preprocessing.StandardScaler().fit(ff_5).transform(ff_5.astype(float)) \n",
    "\n",
    "X_train_bayes_ff5, X_test_bayes_ff5, y_train_bayes_ff5, y_test_bayes_ff5 = train_test_split(ff5, labels_ff5, test_size=0.2,random_state=109)\n",
    "\n",
    "\n",
    "\n",
    "gnb.fit(X_train_bayes_ff5, y_train_bayes_ff3)\n",
    "\n",
    "y_pred_bayes_ff5 = gnb.predict(X_test_bayes_ff5)\n",
    "y_pred_bayes_train_ff5 = gnb.predict(X_train_bayes_ff5)\n",
    "\n",
    "print(\"Accuracy of train set for features:\",metrics.accuracy_score(y_train_bayes_ff5, y_pred_bayes_train_ff5))\n",
    "print(\"Accuracy of test set for features:\",metrics.accuracy_score(y_test_bayes_ff5, y_pred_bayes_ff5))"
   ]
  },
  {
   "cell_type": "code",
   "execution_count": 387,
   "metadata": {},
   "outputs": [],
   "source": [
    "#for feature 3\n",
    "\n",
    "y1 = pd.DataFrame(y_train_bayes_ff3)\n",
    "y2 = pd.DataFrame(y_test_bayes_ff3)"
   ]
  },
  {
   "cell_type": "code",
   "execution_count": 388,
   "metadata": {},
   "outputs": [
    {
     "data": {
      "text/plain": [
       "2    18\n",
       "0     9\n",
       "1     2\n",
       "dtype: int64"
      ]
     },
     "execution_count": 388,
     "metadata": {},
     "output_type": "execute_result"
    }
   ],
   "source": [
    "y1.value_counts()"
   ]
  },
  {
   "cell_type": "code",
   "execution_count": 389,
   "metadata": {},
   "outputs": [
    {
     "data": {
      "text/plain": [
       "<AxesSubplot:xlabel='0'>"
      ]
     },
     "execution_count": 389,
     "metadata": {},
     "output_type": "execute_result"
    },
    {
     "data": {
      "image/png": "[encoded data removed]",
      "text/plain": [
       "<Figure size 432x288 with 1 Axes>"
      ]
     },
     "metadata": {
      "needs_background": "light"
     },
     "output_type": "display_data"
    }
   ],
   "source": [
    "#distribution of the y train set\n",
    "y1.value_counts().plot(kind='bar')"
   ]
  },
  {
   "cell_type": "code",
   "execution_count": 390,
   "metadata": {},
   "outputs": [
    {
     "data": {
      "text/plain": [
       "<AxesSubplot:xlabel='0'>"
      ]
     },
     "execution_count": 390,
     "metadata": {},
     "output_type": "execute_result"
    },
    {
     "data": {
      "image/png": "[encoded data removed]",
      "text/plain": [
       "<Figure size 432x288 with 1 Axes>"
      ]
     },
     "metadata": {
      "needs_background": "light"
     },
     "output_type": "display_data"
    }
   ],
   "source": [
    "#distribution of the y test set\n",
    "y2.value_counts().plot(kind='bar')"
   ]
  },
  {
   "cell_type": "code",
   "execution_count": 402,
   "metadata": {},
   "outputs": [
    {
     "data": {
      "text/plain": [
       "<AxesSubplot:xlabel='0'>"
      ]
     },
     "execution_count": 402,
     "metadata": {},
     "output_type": "execute_result"
    },
    {
     "data": {
      "image/png": "[encoded data removed]",
      "text/plain": [
       "<Figure size 432x288 with 1 Axes>"
      ]
     },
     "metadata": {
      "needs_background": "light"
     },
     "output_type": "display_data"
    }
   ],
   "source": [
    "# distribution of both train and test\n",
    "(y1.value_counts()+ y2.value_counts()).plot(kind='bar')"
   ]
  },
  {
   "cell_type": "code",
   "execution_count": 406,
   "metadata": {},
   "outputs": [
    {
     "data": {
      "text/plain": [
       "<AxesSubplot:xlabel='0'>"
      ]
     },
     "execution_count": 406,
     "metadata": {},
     "output_type": "execute_result"
    },
    {
     "data": {
      "image/png": "[encoded data removed]",
      "text/plain": [
       "<Figure size 432x288 with 1 Axes>"
      ]
     },
     "metadata": {
      "needs_background": "light"
     },
     "output_type": "display_data"
    }
   ],
   "source": [
    "ytotal = pd.DataFrame(labels_ff3)\n",
    "ytotal.value_counts().plot(kind='bar')\n"
   ]
  },
  {
   "cell_type": "code",
   "execution_count": null,
   "metadata": {},
   "outputs": [],
   "source": []
  }
 ],
 "metadata": {
  "kernelspec": {
   "display_name": "Python 3",
   "language": "python",
   "name": "python3"
  },
  "language_info": {
   "codemirror_mode": {
    "name": "ipython",
    "version": 3
   },
   "file_extension": ".py",
   "mimetype": "text/x-python",
   "name": "python",
   "nbconvert_exporter": "python",
   "pygments_lexer": "ipython3",
   "version": "3.8.5"
  }
 },
 "nbformat": 4,
 "nbformat_minor": 4
}
