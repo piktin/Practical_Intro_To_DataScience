{
 "cells": [
  {
   "cell_type": "code",
   "execution_count": 3,
   "metadata": {},
   "outputs": [],
   "source": [
    "##############################################################\n",
    "#### PART 4A. Continued                   ####################\n",
    "######    Anxiety and Happiness Regression    ###############\n",
    "#############################\n",
    "#############################################################"
   ]
  },
  {
   "cell_type": "code",
   "execution_count": null,
   "metadata": {},
   "outputs": [],
   "source": [
    "import pandas as pd\n",
    "import pandas as pd\n",
    "import seaborn as sns\n",
    "import matplotlib.pyplot as plt \n",
    "from sklearn.linear_model import LinearRegression\n",
    "from sklearn import linear_model, datasets\n",
    "from sklearn import metrics\n",
    "from sklearn.metrics import accuracy_score, confusion_matrix, classification_report, roc_auc_score\n",
    "import numpy as np\n",
    "import matplotlib as mlp\n",
    "from sklearn import preprocessing\n",
    "from sklearn.model_selection import train_test_split"
   ]
  },
  {
   "cell_type": "code",
   "execution_count": 4,
   "metadata": {},
   "outputs": [],
   "source": [
    "happy = pd.read_csv('weather_happy.csv')\n",
    "anxiety = pd.read_csv('weather_anxiety.csv')"
   ]
  },
  {
   "cell_type": "code",
   "execution_count": 5,
   "metadata": {},
   "outputs": [],
   "source": [
    "happy.drop('Unnamed: 0', axis=1, inplace=True)\n",
    "anxiety.drop('Unnamed: 0', axis=1, inplace=True)"
   ]
  },
  {
   "cell_type": "code",
   "execution_count": 6,
   "metadata": {},
   "outputs": [],
   "source": [
    "happy_anxiety = pd.merge(happy, anxiety,left_index=True,right_index=True, how='left')"
   ]
  },
  {
   "cell_type": "code",
   "execution_count": 7,
   "metadata": {},
   "outputs": [
    {
     "data": {
      "text/html": [
       "<div>\n",
       "<style scoped>\n",
       "    .dataframe tbody tr th:only-of-type {\n",
       "        vertical-align: middle;\n",
       "    }\n",
       "\n",
       "    .dataframe tbody tr th {\n",
       "        vertical-align: top;\n",
       "    }\n",
       "\n",
       "    .dataframe thead th {\n",
       "        text-align: right;\n",
       "    }\n",
       "</style>\n",
       "<table border=\"1\" class=\"dataframe\">\n",
       "  <thead>\n",
       "    <tr style=\"text-align: right;\">\n",
       "      <th></th>\n",
       "      <th>Stations_x</th>\n",
       "      <th>Tmax</th>\n",
       "      <th>Tmin</th>\n",
       "      <th>AF</th>\n",
       "      <th>Rain</th>\n",
       "      <th>Sun</th>\n",
       "      <th>Tmean</th>\n",
       "      <th>Stations_y</th>\n",
       "      <th>Latitude</th>\n",
       "      <th>Longtitude</th>\n",
       "      <th>...</th>\n",
       "      <th>Longtitude_x</th>\n",
       "      <th>Location_y</th>\n",
       "      <th>Area_y</th>\n",
       "      <th>Area_Codes_y</th>\n",
       "      <th>Verylow_0_1</th>\n",
       "      <th>Low_2_3</th>\n",
       "      <th>Medium_4_5</th>\n",
       "      <th>High_6_10</th>\n",
       "      <th>Anxiety_Avg_Rating</th>\n",
       "      <th>Sample_Size_y</th>\n",
       "    </tr>\n",
       "  </thead>\n",
       "  <tbody>\n",
       "    <tr>\n",
       "      <th>0</th>\n",
       "      <td>aberporth</td>\n",
       "      <td>12.888889</td>\n",
       "      <td>7.687302</td>\n",
       "      <td>1.115079</td>\n",
       "      <td>78.828175</td>\n",
       "      <td>126.252613</td>\n",
       "      <td>10.288095</td>\n",
       "      <td>aberporth</td>\n",
       "      <td>52.139</td>\n",
       "      <td>-4.570</td>\n",
       "      <td>...</td>\n",
       "      <td>-4.570</td>\n",
       "      <td>South</td>\n",
       "      <td>WALES</td>\n",
       "      <td>W92000004</td>\n",
       "      <td>40.82</td>\n",
       "      <td>21.51</td>\n",
       "      <td>17.17</td>\n",
       "      <td>20.50</td>\n",
       "      <td>2.93</td>\n",
       "      <td>19540</td>\n",
       "    </tr>\n",
       "    <tr>\n",
       "      <th>1</th>\n",
       "      <td>armagh</td>\n",
       "      <td>13.702381</td>\n",
       "      <td>6.274603</td>\n",
       "      <td>2.992063</td>\n",
       "      <td>69.495238</td>\n",
       "      <td>109.561508</td>\n",
       "      <td>9.988492</td>\n",
       "      <td>armagh</td>\n",
       "      <td>54.352</td>\n",
       "      <td>-6.649</td>\n",
       "      <td>...</td>\n",
       "      <td>-6.649</td>\n",
       "      <td>Central</td>\n",
       "      <td>NORTHERN IRELAND</td>\n",
       "      <td>N92000002</td>\n",
       "      <td>42.61</td>\n",
       "      <td>23.85</td>\n",
       "      <td>16.02</td>\n",
       "      <td>17.52</td>\n",
       "      <td>2.78</td>\n",
       "      <td>2540</td>\n",
       "    </tr>\n",
       "    <tr>\n",
       "      <th>2</th>\n",
       "      <td>ballypatrick</td>\n",
       "      <td>11.864928</td>\n",
       "      <td>6.249531</td>\n",
       "      <td>1.625902</td>\n",
       "      <td>113.057143</td>\n",
       "      <td>NaN</td>\n",
       "      <td>9.057229</td>\n",
       "      <td>ballypatrick</td>\n",
       "      <td>55.181</td>\n",
       "      <td>-6.153</td>\n",
       "      <td>...</td>\n",
       "      <td>-6.153</td>\n",
       "      <td>Central</td>\n",
       "      <td>NORTHERN IRELAND</td>\n",
       "      <td>N92000002</td>\n",
       "      <td>42.61</td>\n",
       "      <td>23.85</td>\n",
       "      <td>16.02</td>\n",
       "      <td>17.52</td>\n",
       "      <td>2.78</td>\n",
       "      <td>2540</td>\n",
       "    </tr>\n",
       "    <tr>\n",
       "      <th>3</th>\n",
       "      <td>bradford</td>\n",
       "      <td>13.282143</td>\n",
       "      <td>6.448413</td>\n",
       "      <td>3.027778</td>\n",
       "      <td>74.966270</td>\n",
       "      <td>113.146429</td>\n",
       "      <td>9.865278</td>\n",
       "      <td>bradford</td>\n",
       "      <td>53.813</td>\n",
       "      <td>-1.772</td>\n",
       "      <td>...</td>\n",
       "      <td>-1.772</td>\n",
       "      <td>Central</td>\n",
       "      <td>YORKSHIRE AND THE HUMBER</td>\n",
       "      <td>E12000003</td>\n",
       "      <td>40.84</td>\n",
       "      <td>21.46</td>\n",
       "      <td>16.43</td>\n",
       "      <td>21.27</td>\n",
       "      <td>2.96</td>\n",
       "      <td>13080</td>\n",
       "    </tr>\n",
       "    <tr>\n",
       "      <th>4</th>\n",
       "      <td>braemar</td>\n",
       "      <td>10.984524</td>\n",
       "      <td>3.012169</td>\n",
       "      <td>8.515873</td>\n",
       "      <td>78.164815</td>\n",
       "      <td>94.156944</td>\n",
       "      <td>6.998347</td>\n",
       "      <td>braemar</td>\n",
       "      <td>57.006</td>\n",
       "      <td>-3.396</td>\n",
       "      <td>...</td>\n",
       "      <td>-3.396</td>\n",
       "      <td>Central</td>\n",
       "      <td>SCOTLAND</td>\n",
       "      <td>S92000003</td>\n",
       "      <td>41.36</td>\n",
       "      <td>23.29</td>\n",
       "      <td>15.70</td>\n",
       "      <td>19.65</td>\n",
       "      <td>2.84</td>\n",
       "      <td>22740</td>\n",
       "    </tr>\n",
       "  </tbody>\n",
       "</table>\n",
       "<p>5 rows × 31 columns</p>\n",
       "</div>"
      ],
      "text/plain": [
       "     Stations_x       Tmax      Tmin        AF        Rain         Sun  \\\n",
       "0     aberporth  12.888889  7.687302  1.115079   78.828175  126.252613   \n",
       "1        armagh  13.702381  6.274603  2.992063   69.495238  109.561508   \n",
       "2  ballypatrick  11.864928  6.249531  1.625902  113.057143         NaN   \n",
       "3      bradford  13.282143  6.448413  3.027778   74.966270  113.146429   \n",
       "4       braemar  10.984524  3.012169  8.515873   78.164815   94.156944   \n",
       "\n",
       "       Tmean    Stations_y  Latitude  Longtitude  ... Longtitude_x Location_y  \\\n",
       "0  10.288095     aberporth    52.139      -4.570  ...       -4.570      South   \n",
       "1   9.988492        armagh    54.352      -6.649  ...       -6.649    Central   \n",
       "2   9.057229  ballypatrick    55.181      -6.153  ...       -6.153    Central   \n",
       "3   9.865278      bradford    53.813      -1.772  ...       -1.772    Central   \n",
       "4   6.998347       braemar    57.006      -3.396  ...       -3.396    Central   \n",
       "\n",
       "                     Area_y  Area_Codes_y  Verylow_0_1  Low_2_3  Medium_4_5  \\\n",
       "0                     WALES     W92000004        40.82    21.51       17.17   \n",
       "1          NORTHERN IRELAND     N92000002        42.61    23.85       16.02   \n",
       "2          NORTHERN IRELAND     N92000002        42.61    23.85       16.02   \n",
       "3  YORKSHIRE AND THE HUMBER     E12000003        40.84    21.46       16.43   \n",
       "4                  SCOTLAND     S92000003        41.36    23.29       15.70   \n",
       "\n",
       "   High_6_10  Anxiety_Avg_Rating Sample_Size_y  \n",
       "0      20.50                2.93         19540  \n",
       "1      17.52                2.78          2540  \n",
       "2      17.52                2.78          2540  \n",
       "3      21.27                2.96         13080  \n",
       "4      19.65                2.84         22740  \n",
       "\n",
       "[5 rows x 31 columns]"
      ]
     },
     "execution_count": 7,
     "metadata": {},
     "output_type": "execute_result"
    }
   ],
   "source": [
    "happy_anxiety.head()"
   ]
  },
  {
   "cell_type": "code",
   "execution_count": 8,
   "metadata": {},
   "outputs": [],
   "source": [
    "happy_anxiety.drop(happy_anxiety[['Stations_y','Latitude_x','Longtitude_x','Location_y','Area_y','Location_x','Area_x','Area_Codes_x','Stations']], axis=1, inplace= True)"
   ]
  },
  {
   "cell_type": "code",
   "execution_count": 9,
   "metadata": {},
   "outputs": [
    {
     "data": {
      "text/html": [
       "<div>\n",
       "<style scoped>\n",
       "    .dataframe tbody tr th:only-of-type {\n",
       "        vertical-align: middle;\n",
       "    }\n",
       "\n",
       "    .dataframe tbody tr th {\n",
       "        vertical-align: top;\n",
       "    }\n",
       "\n",
       "    .dataframe thead th {\n",
       "        text-align: right;\n",
       "    }\n",
       "</style>\n",
       "<table border=\"1\" class=\"dataframe\">\n",
       "  <thead>\n",
       "    <tr style=\"text-align: right;\">\n",
       "      <th></th>\n",
       "      <th>Stations_x</th>\n",
       "      <th>Tmax</th>\n",
       "      <th>Tmin</th>\n",
       "      <th>AF</th>\n",
       "      <th>Rain</th>\n",
       "      <th>Sun</th>\n",
       "      <th>Tmean</th>\n",
       "      <th>Latitude</th>\n",
       "      <th>Longtitude</th>\n",
       "      <th>Low_0_4</th>\n",
       "      <th>...</th>\n",
       "      <th>Veryhigh_9_10</th>\n",
       "      <th>Mean_Rating</th>\n",
       "      <th>Sample_Size_x</th>\n",
       "      <th>Area_Codes_y</th>\n",
       "      <th>Verylow_0_1</th>\n",
       "      <th>Low_2_3</th>\n",
       "      <th>Medium_4_5</th>\n",
       "      <th>High_6_10</th>\n",
       "      <th>Anxiety_Avg_Rating</th>\n",
       "      <th>Sample_Size_y</th>\n",
       "    </tr>\n",
       "  </thead>\n",
       "  <tbody>\n",
       "    <tr>\n",
       "      <th>0</th>\n",
       "      <td>aberporth</td>\n",
       "      <td>12.888889</td>\n",
       "      <td>7.687302</td>\n",
       "      <td>1.115079</td>\n",
       "      <td>78.828175</td>\n",
       "      <td>126.252613</td>\n",
       "      <td>10.288095</td>\n",
       "      <td>52.139</td>\n",
       "      <td>-4.570</td>\n",
       "      <td>9.56</td>\n",
       "      <td>...</td>\n",
       "      <td>34.45</td>\n",
       "      <td>7.44</td>\n",
       "      <td>19540</td>\n",
       "      <td>W92000004</td>\n",
       "      <td>40.82</td>\n",
       "      <td>21.51</td>\n",
       "      <td>17.17</td>\n",
       "      <td>20.50</td>\n",
       "      <td>2.93</td>\n",
       "      <td>19540</td>\n",
       "    </tr>\n",
       "    <tr>\n",
       "      <th>1</th>\n",
       "      <td>armagh</td>\n",
       "      <td>13.702381</td>\n",
       "      <td>6.274603</td>\n",
       "      <td>2.992063</td>\n",
       "      <td>69.495238</td>\n",
       "      <td>109.561508</td>\n",
       "      <td>9.988492</td>\n",
       "      <td>54.352</td>\n",
       "      <td>-6.649</td>\n",
       "      <td>6.76</td>\n",
       "      <td>...</td>\n",
       "      <td>41.00</td>\n",
       "      <td>7.75</td>\n",
       "      <td>2540</td>\n",
       "      <td>N92000002</td>\n",
       "      <td>42.61</td>\n",
       "      <td>23.85</td>\n",
       "      <td>16.02</td>\n",
       "      <td>17.52</td>\n",
       "      <td>2.78</td>\n",
       "      <td>2540</td>\n",
       "    </tr>\n",
       "    <tr>\n",
       "      <th>2</th>\n",
       "      <td>ballypatrick</td>\n",
       "      <td>11.864928</td>\n",
       "      <td>6.249531</td>\n",
       "      <td>1.625902</td>\n",
       "      <td>113.057143</td>\n",
       "      <td>NaN</td>\n",
       "      <td>9.057229</td>\n",
       "      <td>55.181</td>\n",
       "      <td>-6.153</td>\n",
       "      <td>6.76</td>\n",
       "      <td>...</td>\n",
       "      <td>41.00</td>\n",
       "      <td>7.75</td>\n",
       "      <td>2540</td>\n",
       "      <td>N92000002</td>\n",
       "      <td>42.61</td>\n",
       "      <td>23.85</td>\n",
       "      <td>16.02</td>\n",
       "      <td>17.52</td>\n",
       "      <td>2.78</td>\n",
       "      <td>2540</td>\n",
       "    </tr>\n",
       "    <tr>\n",
       "      <th>3</th>\n",
       "      <td>bradford</td>\n",
       "      <td>13.282143</td>\n",
       "      <td>6.448413</td>\n",
       "      <td>3.027778</td>\n",
       "      <td>74.966270</td>\n",
       "      <td>113.146429</td>\n",
       "      <td>9.865278</td>\n",
       "      <td>53.813</td>\n",
       "      <td>-1.772</td>\n",
       "      <td>10.21</td>\n",
       "      <td>...</td>\n",
       "      <td>34.63</td>\n",
       "      <td>7.41</td>\n",
       "      <td>13110</td>\n",
       "      <td>E12000003</td>\n",
       "      <td>40.84</td>\n",
       "      <td>21.46</td>\n",
       "      <td>16.43</td>\n",
       "      <td>21.27</td>\n",
       "      <td>2.96</td>\n",
       "      <td>13080</td>\n",
       "    </tr>\n",
       "    <tr>\n",
       "      <th>4</th>\n",
       "      <td>braemar</td>\n",
       "      <td>10.984524</td>\n",
       "      <td>3.012169</td>\n",
       "      <td>8.515873</td>\n",
       "      <td>78.164815</td>\n",
       "      <td>94.156944</td>\n",
       "      <td>6.998347</td>\n",
       "      <td>57.006</td>\n",
       "      <td>-3.396</td>\n",
       "      <td>9.16</td>\n",
       "      <td>...</td>\n",
       "      <td>34.19</td>\n",
       "      <td>7.45</td>\n",
       "      <td>22760</td>\n",
       "      <td>S92000003</td>\n",
       "      <td>41.36</td>\n",
       "      <td>23.29</td>\n",
       "      <td>15.70</td>\n",
       "      <td>19.65</td>\n",
       "      <td>2.84</td>\n",
       "      <td>22740</td>\n",
       "    </tr>\n",
       "  </tbody>\n",
       "</table>\n",
       "<p>5 rows × 22 columns</p>\n",
       "</div>"
      ],
      "text/plain": [
       "     Stations_x       Tmax      Tmin        AF        Rain         Sun  \\\n",
       "0     aberporth  12.888889  7.687302  1.115079   78.828175  126.252613   \n",
       "1        armagh  13.702381  6.274603  2.992063   69.495238  109.561508   \n",
       "2  ballypatrick  11.864928  6.249531  1.625902  113.057143         NaN   \n",
       "3      bradford  13.282143  6.448413  3.027778   74.966270  113.146429   \n",
       "4       braemar  10.984524  3.012169  8.515873   78.164815   94.156944   \n",
       "\n",
       "       Tmean  Latitude  Longtitude  Low_0_4  ...  Veryhigh_9_10  Mean_Rating  \\\n",
       "0  10.288095    52.139      -4.570     9.56  ...          34.45         7.44   \n",
       "1   9.988492    54.352      -6.649     6.76  ...          41.00         7.75   \n",
       "2   9.057229    55.181      -6.153     6.76  ...          41.00         7.75   \n",
       "3   9.865278    53.813      -1.772    10.21  ...          34.63         7.41   \n",
       "4   6.998347    57.006      -3.396     9.16  ...          34.19         7.45   \n",
       "\n",
       "   Sample_Size_x  Area_Codes_y  Verylow_0_1 Low_2_3  Medium_4_5  High_6_10  \\\n",
       "0          19540     W92000004        40.82   21.51       17.17      20.50   \n",
       "1           2540     N92000002        42.61   23.85       16.02      17.52   \n",
       "2           2540     N92000002        42.61   23.85       16.02      17.52   \n",
       "3          13110     E12000003        40.84   21.46       16.43      21.27   \n",
       "4          22760     S92000003        41.36   23.29       15.70      19.65   \n",
       "\n",
       "   Anxiety_Avg_Rating  Sample_Size_y  \n",
       "0                2.93          19540  \n",
       "1                2.78           2540  \n",
       "2                2.78           2540  \n",
       "3                2.96          13080  \n",
       "4                2.84          22740  \n",
       "\n",
       "[5 rows x 22 columns]"
      ]
     },
     "execution_count": 9,
     "metadata": {},
     "output_type": "execute_result"
    }
   ],
   "source": [
    "happy_anxiety.head()"
   ]
  },
  {
   "cell_type": "code",
   "execution_count": 10,
   "metadata": {},
   "outputs": [
    {
     "data": {
      "text/plain": [
       "Index(['Stations_x', 'Tmax', 'Tmin', 'AF', 'Rain', 'Sun', 'Tmean', 'Latitude',\n",
       "       'Longtitude', 'Low_0_4', 'Medium_5_6', 'High_7_8', 'Veryhigh_9_10',\n",
       "       'Mean_Rating', 'Sample_Size_x', 'Area_Codes_y', 'Verylow_0_1',\n",
       "       'Low_2_3', 'Medium_4_5', 'High_6_10', 'Anxiety_Avg_Rating',\n",
       "       'Sample_Size_y'],\n",
       "      dtype='object')"
      ]
     },
     "execution_count": 10,
     "metadata": {},
     "output_type": "execute_result"
    }
   ],
   "source": [
    "happy_anxiety.columns"
   ]
  },
  {
   "cell_type": "code",
   "execution_count": 11,
   "metadata": {},
   "outputs": [],
   "source": [
    "#features \n",
    "X = happy_anxiety[['Anxiety_Avg_Rating']].values.reshape(-1,1)\n",
    "X_ = happy_anxiety[['Anxiety_Avg_Rating']]\n",
    "\n",
    "#av_happy \n",
    "Y = happy_anxiety['Mean_Rating']"
   ]
  },
  {
   "cell_type": "code",
   "execution_count": 12,
   "metadata": {},
   "outputs": [],
   "source": [
    "lm = LinearRegression()\n",
    "model = lm.fit(X,Y)"
   ]
  },
  {
   "cell_type": "code",
   "execution_count": 13,
   "metadata": {},
   "outputs": [
    {
     "name": "stdout",
     "output_type": "stream",
     "text": [
      "estimate intercept is: 8.74938266059167\n"
     ]
    }
   ],
   "source": [
    "print ('estimate intercept is:', lm.intercept_)"
   ]
  },
  {
   "cell_type": "code",
   "execution_count": 14,
   "metadata": {},
   "outputs": [
    {
     "name": "stdout",
     "output_type": "stream",
     "text": [
      "coef of determination/r-squared is: 0.20631506606529582\n"
     ]
    }
   ],
   "source": [
    "print ( 'coef of determination/r-squared is:',model.score(X,Y))"
   ]
  },
  {
   "cell_type": "code",
   "execution_count": 15,
   "metadata": {},
   "outputs": [
    {
     "data": {
      "text/plain": [
       "array([-0.44734647])"
      ]
     },
     "execution_count": 15,
     "metadata": {},
     "output_type": "execute_result"
    }
   ],
   "source": [
    "lm.coef_"
   ]
  },
  {
   "cell_type": "code",
   "execution_count": 84,
   "metadata": {},
   "outputs": [
    {
     "name": "stdout",
     "output_type": "stream",
     "text": [
      "Linear Regression R squared: 0.48805921189538415\n"
     ]
    }
   ],
   "source": [
    "#predict mean_happiness scores for the values of X\n",
    "Y_pred = model.predict(X)  # make predictions\n",
    "X_train, X_test, Y_train, Y_test = train_test_split(X,Y, test_size=0.2, random_state= 0)\n",
    "lm.fit(X_train,Y_train)\n",
    "y_pred = lm.predict(X_test)\n",
    "print('Linear Regression R squared:',lm.score(X_test,Y_test))\n"
   ]
  },
  {
   "cell_type": "code",
   "execution_count": 125,
   "metadata": {},
   "outputs": [
    {
     "name": "stdout",
     "output_type": "stream",
     "text": [
      "Linear Regression R squared: 0.48805921189538415\n",
      "linear mean square error: 0.001855785356879234\n",
      "linear regression RMSE, root mean square error: 0.04307882724586678\n"
     ]
    }
   ],
   "source": [
    "print('Linear Regression R squared:',lm.score(X_test,Y_test))\n",
    "\n",
    "print('linear mean square error:', mean_squared_error(y_pred, Y_test))\n",
    "print('linear regression RMSE, root mean square error:', np.sqrt(mean_squared_error(y_pred, Y_test)))"
   ]
  },
  {
   "cell_type": "code",
   "execution_count": 85,
   "metadata": {},
   "outputs": [
    {
     "name": "stdout",
     "output_type": "stream",
     "text": [
      "linear mean square error: 0.001855785356879234\n",
      "linear regression RMSE, root mean square error: 0.04307882724586678\n"
     ]
    }
   ],
   "source": [
    "from sklearn.metrics import mean_squared_error\n",
    "print('linear mean square error:', mean_squared_error(y_pred, Y_test))\n",
    "print('linear regression RMSE, root mean square error:', np.sqrt(mean_squared_error(y_pred, Y_test)))\n",
    "\n",
    "#RMSE values between 0.2 and 0.5 shows that the model can relatively predict the data accurately.\n",
    "#Lower the MSE, the closer is forecast to actual"
   ]
  },
  {
   "cell_type": "code",
   "execution_count": 124,
   "metadata": {},
   "outputs": [
    {
     "name": "stdout",
     "output_type": "stream",
     "text": [
      "Linear Regression R squared: 0.1609167018530876\n",
      "linear mean square error: 0.006227175382941898\n",
      "linear regression RMSE, root mean square error: 0.07891245391534785\n"
     ]
    }
   ],
   "source": [
    "#### For train set:\n",
    "y_pred2 = lm.predict(X_train)\n",
    "print('Linear Regression R squared:',lm.score(X_train,Y_train))\n",
    "print('linear mean square error:', mean_squared_error(y_pred2, Y_train))\n",
    "print('linear regression RMSE, root mean square error:', np.sqrt(mean_squared_error(y_pred2, Y_train)))\n",
    "\n"
   ]
  },
  {
   "cell_type": "code",
   "execution_count": 86,
   "metadata": {},
   "outputs": [
    {
     "data": {
      "text/plain": [
       "22    7.54\n",
       "20    7.45\n",
       "16    7.45\n",
       "10    7.45\n",
       "31    7.45\n",
       "28    7.54\n",
       "15    7.50\n",
       "11    7.34\n",
       "Name: Mean_Rating, dtype: float64"
      ]
     },
     "execution_count": 86,
     "metadata": {},
     "output_type": "execute_result"
    }
   ],
   "source": [
    "Y_test"
   ]
  },
  {
   "cell_type": "code",
   "execution_count": 87,
   "metadata": {},
   "outputs": [
    {
     "data": {
      "image/png": "[encoded data removed]",
      "text/plain": [
       "<Figure size 432x288 with 1 Axes>"
      ]
     },
     "metadata": {},
     "output_type": "display_data"
    }
   ],
   "source": [
    "# Plot regression of testing set\n",
    "plt.scatter(X_test, Y_test,  color='black')\n",
    "plt.plot(X_test, y_pred, color='blue', linewidth=3)\n",
    "\n",
    "plt.xticks(())\n",
    "plt.yticks(())\n",
    "\n",
    "plt.show()"
   ]
  },
  {
   "cell_type": "code",
   "execution_count": 95,
   "metadata": {},
   "outputs": [
    {
     "data": {
      "image/png": "[encoded data removed]",
      "text/plain": [
       "<Figure size 432x288 with 1 Axes>"
      ]
     },
     "metadata": {},
     "output_type": "display_data"
    }
   ],
   "source": [
    "# plot linear regression of training set\n",
    "# Plot outputs\n",
    "plt.scatter(X_train, Y_train,  color='black')\n",
    "plt.plot(X_train,y_pred2, color='blue', linewidth=3)\n",
    "\n",
    "plt.xticks(())\n",
    "plt.yticks(())\n",
    "\n",
    "plt.show()"
   ]
  },
  {
   "cell_type": "code",
   "execution_count": 70,
   "metadata": {},
   "outputs": [
    {
     "data": {
      "text/html": [
       "<div>\n",
       "<style scoped>\n",
       "    .dataframe tbody tr th:only-of-type {\n",
       "        vertical-align: middle;\n",
       "    }\n",
       "\n",
       "    .dataframe tbody tr th {\n",
       "        vertical-align: top;\n",
       "    }\n",
       "\n",
       "    .dataframe thead th {\n",
       "        text-align: right;\n",
       "    }\n",
       "</style>\n",
       "<table border=\"1\" class=\"dataframe\">\n",
       "  <thead>\n",
       "    <tr style=\"text-align: right;\">\n",
       "      <th></th>\n",
       "      <th>Anxiety_Avg_Rating</th>\n",
       "    </tr>\n",
       "  </thead>\n",
       "  <tbody>\n",
       "    <tr>\n",
       "      <th>count</th>\n",
       "      <td>37.000000</td>\n",
       "    </tr>\n",
       "    <tr>\n",
       "      <th>mean</th>\n",
       "      <td>2.850270</td>\n",
       "    </tr>\n",
       "    <tr>\n",
       "      <th>std</th>\n",
       "      <td>0.083782</td>\n",
       "    </tr>\n",
       "    <tr>\n",
       "      <th>min</th>\n",
       "      <td>2.630000</td>\n",
       "    </tr>\n",
       "    <tr>\n",
       "      <th>25%</th>\n",
       "      <td>2.820000</td>\n",
       "    </tr>\n",
       "    <tr>\n",
       "      <th>50%</th>\n",
       "      <td>2.840000</td>\n",
       "    </tr>\n",
       "    <tr>\n",
       "      <th>75%</th>\n",
       "      <td>2.910000</td>\n",
       "    </tr>\n",
       "    <tr>\n",
       "      <th>max</th>\n",
       "      <td>3.010000</td>\n",
       "    </tr>\n",
       "  </tbody>\n",
       "</table>\n",
       "</div>"
      ],
      "text/plain": [
       "       Anxiety_Avg_Rating\n",
       "count           37.000000\n",
       "mean             2.850270\n",
       "std              0.083782\n",
       "min              2.630000\n",
       "25%              2.820000\n",
       "50%              2.840000\n",
       "75%              2.910000\n",
       "max              3.010000"
      ]
     },
     "execution_count": 70,
     "metadata": {},
     "output_type": "execute_result"
    }
   ],
   "source": [
    "##################################\n",
    "#Try Logistic Regression##########\n",
    "#####################################\n",
    "anxiety_rating = pd.DataFrame(happy_anxiety['Anxiety_Avg_Rating'])\n",
    "anxiety_rating.describe()"
   ]
  },
  {
   "cell_type": "code",
   "execution_count": 19,
   "metadata": {},
   "outputs": [],
   "source": [
    "anxiety_rating['Anxiety_Avg_Rating'] = anxiety_rating['Anxiety_Avg_Rating'].astype(float)"
   ]
  },
  {
   "cell_type": "code",
   "execution_count": 20,
   "metadata": {},
   "outputs": [
    {
     "data": {
      "text/html": [
       "<div>\n",
       "<style scoped>\n",
       "    .dataframe tbody tr th:only-of-type {\n",
       "        vertical-align: middle;\n",
       "    }\n",
       "\n",
       "    .dataframe tbody tr th {\n",
       "        vertical-align: top;\n",
       "    }\n",
       "\n",
       "    .dataframe thead th {\n",
       "        text-align: right;\n",
       "    }\n",
       "</style>\n",
       "<table border=\"1\" class=\"dataframe\">\n",
       "  <thead>\n",
       "    <tr style=\"text-align: right;\">\n",
       "      <th></th>\n",
       "      <th>Mean_Rating</th>\n",
       "    </tr>\n",
       "  </thead>\n",
       "  <tbody>\n",
       "    <tr>\n",
       "      <th>count</th>\n",
       "      <td>37.000000</td>\n",
       "    </tr>\n",
       "    <tr>\n",
       "      <th>mean</th>\n",
       "      <td>7.474324</td>\n",
       "    </tr>\n",
       "    <tr>\n",
       "      <th>std</th>\n",
       "      <td>0.082514</td>\n",
       "    </tr>\n",
       "    <tr>\n",
       "      <th>min</th>\n",
       "      <td>7.340000</td>\n",
       "    </tr>\n",
       "    <tr>\n",
       "      <th>25%</th>\n",
       "      <td>7.440000</td>\n",
       "    </tr>\n",
       "    <tr>\n",
       "      <th>50%</th>\n",
       "      <td>7.450000</td>\n",
       "    </tr>\n",
       "    <tr>\n",
       "      <th>75%</th>\n",
       "      <td>7.510000</td>\n",
       "    </tr>\n",
       "    <tr>\n",
       "      <th>max</th>\n",
       "      <td>7.750000</td>\n",
       "    </tr>\n",
       "  </tbody>\n",
       "</table>\n",
       "</div>"
      ],
      "text/plain": [
       "       Mean_Rating\n",
       "count    37.000000\n",
       "mean      7.474324\n",
       "std       0.082514\n",
       "min       7.340000\n",
       "25%       7.440000\n",
       "50%       7.450000\n",
       "75%       7.510000\n",
       "max       7.750000"
      ]
     },
     "execution_count": 20,
     "metadata": {},
     "output_type": "execute_result"
    }
   ],
   "source": [
    "happy_rating = pd.DataFrame(happy_anxiety['Mean_Rating'])\n",
    "happy_rating.describe()"
   ]
  },
  {
   "cell_type": "code",
   "execution_count": 21,
   "metadata": {},
   "outputs": [
    {
     "name": "stderr",
     "output_type": "stream",
     "text": [
      "C:\\Users\\Wind\\anaconda3\\lib\\site-packages\\seaborn\\distributions.py:2551: FutureWarning: `distplot` is a deprecated function and will be removed in a future version. Please adapt your code to use either `displot` (a figure-level function with similar flexibility) or `histplot` (an axes-level function for histograms).\n",
      "  warnings.warn(msg, FutureWarning)\n"
     ]
    },
    {
     "data": {
      "text/plain": [
       "<AxesSubplot:ylabel='Density'>"
      ]
     },
     "execution_count": 21,
     "metadata": {},
     "output_type": "execute_result"
    },
    {
     "data": {
      "image/png": "[encoded data removed]",
      "text/plain": [
       "<Figure size 1080x288 with 2 Axes>"
      ]
     },
     "metadata": {
      "needs_background": "light"
     },
     "output_type": "display_data"
    }
   ],
   "source": [
    "f, axes = plt.subplots(1,2,figsize=(15,4))\n",
    "sns.distplot(anxiety_rating, kde=True,hist=True, color='b', ax=axes[0])\n"
   ]
  },
  {
   "cell_type": "code",
   "execution_count": 22,
   "metadata": {},
   "outputs": [
    {
     "data": {
      "text/html": [
       "<div>\n",
       "<style scoped>\n",
       "    .dataframe tbody tr th:only-of-type {\n",
       "        vertical-align: middle;\n",
       "    }\n",
       "\n",
       "    .dataframe tbody tr th {\n",
       "        vertical-align: top;\n",
       "    }\n",
       "\n",
       "    .dataframe thead th {\n",
       "        text-align: right;\n",
       "    }\n",
       "</style>\n",
       "<table border=\"1\" class=\"dataframe\">\n",
       "  <thead>\n",
       "    <tr style=\"text-align: right;\">\n",
       "      <th></th>\n",
       "      <th>Stations_x</th>\n",
       "      <th>Tmax</th>\n",
       "      <th>Tmin</th>\n",
       "      <th>AF</th>\n",
       "      <th>Rain</th>\n",
       "      <th>Sun</th>\n",
       "      <th>Tmean</th>\n",
       "      <th>Latitude</th>\n",
       "      <th>Longtitude</th>\n",
       "      <th>Low_0_4</th>\n",
       "      <th>...</th>\n",
       "      <th>Mean_Rating</th>\n",
       "      <th>Sample_Size_x</th>\n",
       "      <th>Area_Codes_y</th>\n",
       "      <th>Verylow_0_1</th>\n",
       "      <th>Low_2_3</th>\n",
       "      <th>Medium_4_5</th>\n",
       "      <th>High_6_10</th>\n",
       "      <th>Anxiety_Avg_Rating</th>\n",
       "      <th>Sample_Size_y</th>\n",
       "      <th>Categories_Happy_Rating</th>\n",
       "    </tr>\n",
       "  </thead>\n",
       "  <tbody>\n",
       "    <tr>\n",
       "      <th>0</th>\n",
       "      <td>aberporth</td>\n",
       "      <td>12.888889</td>\n",
       "      <td>7.687302</td>\n",
       "      <td>1.115079</td>\n",
       "      <td>78.828175</td>\n",
       "      <td>126.252613</td>\n",
       "      <td>10.288095</td>\n",
       "      <td>52.139</td>\n",
       "      <td>-4.570</td>\n",
       "      <td>9.56</td>\n",
       "      <td>...</td>\n",
       "      <td>7.44</td>\n",
       "      <td>19540</td>\n",
       "      <td>W92000004</td>\n",
       "      <td>40.82</td>\n",
       "      <td>21.51</td>\n",
       "      <td>17.17</td>\n",
       "      <td>20.50</td>\n",
       "      <td>2.93</td>\n",
       "      <td>19540</td>\n",
       "      <td>Below Avg Happy</td>\n",
       "    </tr>\n",
       "    <tr>\n",
       "      <th>1</th>\n",
       "      <td>armagh</td>\n",
       "      <td>13.702381</td>\n",
       "      <td>6.274603</td>\n",
       "      <td>2.992063</td>\n",
       "      <td>69.495238</td>\n",
       "      <td>109.561508</td>\n",
       "      <td>9.988492</td>\n",
       "      <td>54.352</td>\n",
       "      <td>-6.649</td>\n",
       "      <td>6.76</td>\n",
       "      <td>...</td>\n",
       "      <td>7.75</td>\n",
       "      <td>2540</td>\n",
       "      <td>N92000002</td>\n",
       "      <td>42.61</td>\n",
       "      <td>23.85</td>\n",
       "      <td>16.02</td>\n",
       "      <td>17.52</td>\n",
       "      <td>2.78</td>\n",
       "      <td>2540</td>\n",
       "      <td>Avg or Higher than Average Happy</td>\n",
       "    </tr>\n",
       "    <tr>\n",
       "      <th>2</th>\n",
       "      <td>ballypatrick</td>\n",
       "      <td>11.864928</td>\n",
       "      <td>6.249531</td>\n",
       "      <td>1.625902</td>\n",
       "      <td>113.057143</td>\n",
       "      <td>NaN</td>\n",
       "      <td>9.057229</td>\n",
       "      <td>55.181</td>\n",
       "      <td>-6.153</td>\n",
       "      <td>6.76</td>\n",
       "      <td>...</td>\n",
       "      <td>7.75</td>\n",
       "      <td>2540</td>\n",
       "      <td>N92000002</td>\n",
       "      <td>42.61</td>\n",
       "      <td>23.85</td>\n",
       "      <td>16.02</td>\n",
       "      <td>17.52</td>\n",
       "      <td>2.78</td>\n",
       "      <td>2540</td>\n",
       "      <td>Avg or Higher than Average Happy</td>\n",
       "    </tr>\n",
       "    <tr>\n",
       "      <th>3</th>\n",
       "      <td>bradford</td>\n",
       "      <td>13.282143</td>\n",
       "      <td>6.448413</td>\n",
       "      <td>3.027778</td>\n",
       "      <td>74.966270</td>\n",
       "      <td>113.146429</td>\n",
       "      <td>9.865278</td>\n",
       "      <td>53.813</td>\n",
       "      <td>-1.772</td>\n",
       "      <td>10.21</td>\n",
       "      <td>...</td>\n",
       "      <td>7.41</td>\n",
       "      <td>13110</td>\n",
       "      <td>E12000003</td>\n",
       "      <td>40.84</td>\n",
       "      <td>21.46</td>\n",
       "      <td>16.43</td>\n",
       "      <td>21.27</td>\n",
       "      <td>2.96</td>\n",
       "      <td>13080</td>\n",
       "      <td>Below Avg Happy</td>\n",
       "    </tr>\n",
       "    <tr>\n",
       "      <th>4</th>\n",
       "      <td>braemar</td>\n",
       "      <td>10.984524</td>\n",
       "      <td>3.012169</td>\n",
       "      <td>8.515873</td>\n",
       "      <td>78.164815</td>\n",
       "      <td>94.156944</td>\n",
       "      <td>6.998347</td>\n",
       "      <td>57.006</td>\n",
       "      <td>-3.396</td>\n",
       "      <td>9.16</td>\n",
       "      <td>...</td>\n",
       "      <td>7.45</td>\n",
       "      <td>22760</td>\n",
       "      <td>S92000003</td>\n",
       "      <td>41.36</td>\n",
       "      <td>23.29</td>\n",
       "      <td>15.70</td>\n",
       "      <td>19.65</td>\n",
       "      <td>2.84</td>\n",
       "      <td>22740</td>\n",
       "      <td>Avg or Higher than Average Happy</td>\n",
       "    </tr>\n",
       "  </tbody>\n",
       "</table>\n",
       "<p>5 rows × 23 columns</p>\n",
       "</div>"
      ],
      "text/plain": [
       "     Stations_x       Tmax      Tmin        AF        Rain         Sun  \\\n",
       "0     aberporth  12.888889  7.687302  1.115079   78.828175  126.252613   \n",
       "1        armagh  13.702381  6.274603  2.992063   69.495238  109.561508   \n",
       "2  ballypatrick  11.864928  6.249531  1.625902  113.057143         NaN   \n",
       "3      bradford  13.282143  6.448413  3.027778   74.966270  113.146429   \n",
       "4       braemar  10.984524  3.012169  8.515873   78.164815   94.156944   \n",
       "\n",
       "       Tmean  Latitude  Longtitude  Low_0_4  ...  Mean_Rating  Sample_Size_x  \\\n",
       "0  10.288095    52.139      -4.570     9.56  ...         7.44          19540   \n",
       "1   9.988492    54.352      -6.649     6.76  ...         7.75           2540   \n",
       "2   9.057229    55.181      -6.153     6.76  ...         7.75           2540   \n",
       "3   9.865278    53.813      -1.772    10.21  ...         7.41          13110   \n",
       "4   6.998347    57.006      -3.396     9.16  ...         7.45          22760   \n",
       "\n",
       "   Area_Codes_y  Verylow_0_1  Low_2_3 Medium_4_5  High_6_10  \\\n",
       "0     W92000004        40.82    21.51      17.17      20.50   \n",
       "1     N92000002        42.61    23.85      16.02      17.52   \n",
       "2     N92000002        42.61    23.85      16.02      17.52   \n",
       "3     E12000003        40.84    21.46      16.43      21.27   \n",
       "4     S92000003        41.36    23.29      15.70      19.65   \n",
       "\n",
       "   Anxiety_Avg_Rating  Sample_Size_y           Categories_Happy_Rating  \n",
       "0                2.93          19540                   Below Avg Happy  \n",
       "1                2.78           2540  Avg or Higher than Average Happy  \n",
       "2                2.78           2540  Avg or Higher than Average Happy  \n",
       "3                2.96          13080                   Below Avg Happy  \n",
       "4                2.84          22740  Avg or Higher than Average Happy  \n",
       "\n",
       "[5 rows x 23 columns]"
      ]
     },
     "execution_count": 22,
     "metadata": {},
     "output_type": "execute_result"
    }
   ],
   "source": [
    "#Create only 2 categories for purpose of logistic regression\n",
    "happy=[]\n",
    "for rating in happy_anxiety['Mean_Rating']:\n",
    "    if rating<7.45:\n",
    "        happy.append('Below Avg Happy')\n",
    "    #elif 7.45<=rating<7.46:\n",
    "       # happy.append('Average Happy')\n",
    "    else:\n",
    "        happy.append('Avg or Higher than Average Happy')\n",
    "        \n",
    "categ_happy = pd.DataFrame(happy,columns=['Categories_Happy_Rating'])\n",
    "categ_happy = pd.DataFrame(categ_happy['Categories_Happy_Rating'].astype('category'))\n",
    "df1 = pd.concat([happy_anxiety,categ_happy],axis=1)\n",
    "df1.head()\n"
   ]
  },
  {
   "cell_type": "code",
   "execution_count": 26,
   "metadata": {},
   "outputs": [],
   "source": [
    "le = preprocessing.LabelEncoder()\n",
    "\n",
    "df2 = df1.copy()\n",
    "\n",
    "df2['Happy Category Nr']= le.fit_transform(df1['Categories_Happy_Rating'])"
   ]
  },
  {
   "cell_type": "code",
   "execution_count": 129,
   "metadata": {},
   "outputs": [],
   "source": [
    "from sklearn.ensemble import RandomForestRegressor\n",
    "\n",
    "clf=RandomForestRegressor(n_estimators=100)\n",
    "\n",
    "X_happy =df2[['Anxiety_Avg_Rating']]  # Features\n",
    "y_happy =df2['Happy Category Nr']\n"
   ]
  },
  {
   "cell_type": "code",
   "execution_count": null,
   "metadata": {},
   "outputs": [],
   "source": [
    "# Wihout reshape"
   ]
  },
  {
   "cell_type": "code",
   "execution_count": 130,
   "metadata": {},
   "outputs": [
    {
     "name": "stdout",
     "output_type": "stream",
     "text": [
      "Accuracy using Random Forest Classifier: 1.0\n"
     ]
    }
   ],
   "source": [
    "X_train_happy, X_test_happy, y_train_happy, y_test_happy = train_test_split(X_happy, y_happy, test_size=0.2)\n",
    "clf.fit(X_train_happy,y_train_happy)\n",
    "y_pred_happy=clf.predict(X_test_happy)\n",
    "\n",
    "# Model Accuracy, accuracy that the classifier can correctly predict the category of happy\n",
    "print(\"Accuracy using Random Forest Classifier:\",metrics.accuracy_score(y_test_happy, y_pred_happy))"
   ]
  },
  {
   "cell_type": "code",
   "execution_count": null,
   "metadata": {},
   "outputs": [],
   "source": []
  },
  {
   "cell_type": "code",
   "execution_count": 135,
   "metadata": {},
   "outputs": [
    {
     "data": {
      "text/plain": [
       "array([1, 0, 0, 1, 0, 0, 0, 1, 0, 1, 0, 1, 0, 0, 1, 0, 0, 0, 0, 0, 0, 1,\n",
       "       0, 0, 1, 1, 1, 1, 0, 0, 0, 0, 1, 0, 1, 0, 0])"
      ]
     },
     "execution_count": 135,
     "metadata": {},
     "output_type": "execute_result"
    }
   ],
   "source": [
    "Xlog = df2['Anxiety_Avg_Rating'] # Features\n",
    "Xlog.to_numpy()\n",
    "ylog = df2['Happy Category Nr']# Target variable\n",
    "ylog.to_numpy()"
   ]
  },
  {
   "cell_type": "code",
   "execution_count": 136,
   "metadata": {},
   "outputs": [],
   "source": [
    "X_train_log,X_test_log,y_train_log,y_test_log=train_test_split(Xlog,ylog,test_size=0.20,random_state=0)\n",
    "X_train_log = X_train_log.values.reshape(-1,1)\n",
    "y_train_log = y_train_log.values.reshape(-1,1)"
   ]
  },
  {
   "cell_type": "code",
   "execution_count": 137,
   "metadata": {},
   "outputs": [
    {
     "data": {
      "text/plain": [
       "LogisticRegression()"
      ]
     },
     "execution_count": 137,
     "metadata": {},
     "output_type": "execute_result"
    }
   ],
   "source": [
    "from sklearn.linear_model import LogisticRegression\n",
    "\n",
    "# \n",
    "logreg = LogisticRegression()\n",
    "\n",
    "# fit the model with data\n",
    "logreg.fit(X_train_log,y_train_log.ravel())\n",
    "\n",
    "\n"
   ]
  },
  {
   "cell_type": "code",
   "execution_count": 138,
   "metadata": {},
   "outputs": [],
   "source": [
    "\n",
    "X_test_log = X_test_log.values.reshape(-1,1)\n",
    "y_test_log = y_test_log.values.reshape(-1,1)\n",
    "y_pred_log=logreg.predict(X_test_log)"
   ]
  },
  {
   "cell_type": "code",
   "execution_count": 145,
   "metadata": {},
   "outputs": [
    {
     "name": "stdout",
     "output_type": "stream",
     "text": [
      "Accuracy: 0.875\n",
      "Precision: 0.0\n",
      "Recall: 0.0\n",
      "ROC_AUC_Score: 1.0\n"
     ]
    },
    {
     "name": "stderr",
     "output_type": "stream",
     "text": [
      "C:\\Users\\Wind\\anaconda3\\lib\\site-packages\\sklearn\\metrics\\_classification.py:1221: UndefinedMetricWarning: Precision is ill-defined and being set to 0.0 due to no predicted samples. Use `zero_division` parameter to control this behavior.\n",
      "  _warn_prf(average, modifier, msg_start, len(result))\n"
     ]
    }
   ],
   "source": [
    "print(\"Accuracy:\",metrics.accuracy_score(y_test_log, y_pred_log))\n",
    "print(\"Precision:\",metrics.precision_score(y_test_log, y_pred_log))\n",
    "print(\"Recall:\",metrics.recall_score(y_test_log, y_pred_log))\n",
    "print('ROC_AUC_Score:',metrics.roc_auc_score(y_test_log, y_pred_proba))"
   ]
  },
  {
   "cell_type": "code",
   "execution_count": 142,
   "metadata": {},
   "outputs": [
    {
     "data": {
      "text/plain": [
       "array([0, 0, 0, 0, 0, 0, 0, 0])"
      ]
     },
     "execution_count": 142,
     "metadata": {},
     "output_type": "execute_result"
    }
   ],
   "source": [
    "y_pred_log"
   ]
  },
  {
   "cell_type": "code",
   "execution_count": 152,
   "metadata": {},
   "outputs": [
    {
     "data": {
      "image/png": "[encoded data removed]",
      "text/plain": [
       "<Figure size 432x288 with 1 Axes>"
      ]
     },
     "metadata": {
      "needs_background": "light"
     },
     "output_type": "display_data"
    }
   ],
   "source": [
    "y_pred_pr = logreg.predict_proba(X_test_log)[::,1]\n",
    "falpr, trupr, _ = metrics.roc_curve(y_test_log,  y_pred_pr)\n",
    "AUC = metrics.roc_auc_score(y_test_log, y_pred_pr)\n",
    "plt.plot(falpr,trupr,label=\"Anxiety&Happiness, auc=\"+str(AUC))\n",
    "plt.legend(loc=4)\n",
    "plt.show()"
   ]
  },
  {
   "cell_type": "code",
   "execution_count": null,
   "metadata": {},
   "outputs": [],
   "source": []
  },
  {
   "cell_type": "code",
   "execution_count": null,
   "metadata": {},
   "outputs": [],
   "source": []
  }
 ],
 "metadata": {
  "kernelspec": {
   "display_name": "Python 3",
   "language": "python",
   "name": "python3"
  },
  "language_info": {
   "codemirror_mode": {
    "name": "ipython",
    "version": 3
   },
   "file_extension": ".py",
   "mimetype": "text/x-python",
   "name": "python",
   "nbconvert_exporter": "python",
   "pygments_lexer": "ipython3",
   "version": "3.8.5"
  }
 },
 "nbformat": 4,
 "nbformat_minor": 4
}
